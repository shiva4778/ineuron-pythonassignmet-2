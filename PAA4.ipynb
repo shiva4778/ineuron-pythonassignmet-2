{
 "cells": [
  {
   "cell_type": "markdown",
   "id": "9f90d46d",
   "metadata": {},
   "source": [
    "# Q1. Which two operator overloading methods can you use in your classes to support iteration?"
   ]
  },
  {
   "cell_type": "markdown",
   "id": "a6a23207",
   "metadata": {},
   "source": [
    "The __iter__ returns the iterator object and is implicitly called at the start of loops. The __next__ method returns the next value and is implicitly called at each loop increment."
   ]
  },
  {
   "cell_type": "markdown",
   "id": "14deaa33",
   "metadata": {},
   "source": [
    "# Q2. In what contexts do the two operator overloading methods manage printing?"
   ]
  },
  {
   "cell_type": "raw",
   "id": "405b4d1c",
   "metadata": {},
   "source": [
    "In Short, the difference between both these operators is the goal of __repr__ is to be unambiguous and __str__ is to be readable.\n",
    "Whenever we are printing any object reference internally __str__ method will be called by default.\n",
    "The main purpose of __str__ is for readability. it prints the informal string representation of an object, one that is useful for printing the object. it may not be possible to convert result string to original object.\n",
    "__repr__ is used to print official string representation of an object, so it includes all information and development."
   ]
  },
  {
   "cell_type": "markdown",
   "id": "36d0dbe9",
   "metadata": {},
   "source": [
    "# Q3. In a class, how do you intercept slice operations?"
   ]
  },
  {
   "cell_type": "raw",
   "id": "d14a8a12",
   "metadata": {},
   "source": [
    "Ans: In a class use of slice() in __getitem__ method is used for intercept slice operation. This slice method is provided with start integer number, stop integer number and step integer number.\n",
    "\n",
    "Example: __getitem__(slice(start,stop,step))"
   ]
  },
  {
   "cell_type": "markdown",
   "id": "701bcd2e",
   "metadata": {},
   "source": [
    "# Q4. In a class, how do you capture in-place addition?"
   ]
  },
  {
   "cell_type": "raw",
   "id": "9b3d6cde",
   "metadata": {},
   "source": [
    "Ans: a+b is normal addition. Whereas a+=b is inplace addition operation. In this in-place addition a itself will store the value of addition. In a class __iadd__ method is used for this in-place operation"
   ]
  },
  {
   "cell_type": "markdown",
   "id": "769fb1df",
   "metadata": {},
   "source": [
    "# Q5. When is it appropriate to use operator overloading?"
   ]
  },
  {
   "cell_type": "raw",
   "id": "af855aa3",
   "metadata": {},
   "source": [
    "Operator Overloading means giving extended meaning beyond their predefined operational meaning. For example operator + is used to add two integers as well as join two strings and merge two lists. It is achievable because ‘+’ operator is overloaded by int class and str class. You might have noticed that the same built-in operator or function shows different behavior for objects of different classes, this is called Operator Overloading. \n",
    "\n"
   ]
  },
  {
   "cell_type": "code",
   "execution_count": null,
   "id": "16867c35",
   "metadata": {},
   "outputs": [],
   "source": []
  }
 ],
 "metadata": {
  "kernelspec": {
   "display_name": "Python 3 (ipykernel)",
   "language": "python",
   "name": "python3"
  },
  "language_info": {
   "codemirror_mode": {
    "name": "ipython",
    "version": 3
   },
   "file_extension": ".py",
   "mimetype": "text/x-python",
   "name": "python",
   "nbconvert_exporter": "python",
   "pygments_lexer": "ipython3",
   "version": "3.9.12"
  }
 },
 "nbformat": 4,
 "nbformat_minor": 5
}
