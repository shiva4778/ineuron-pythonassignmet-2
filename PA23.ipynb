{
 "cells": [
  {
   "cell_type": "markdown",
   "id": "b3686a5d",
   "metadata": {},
   "source": [
    "  # Create a function that takes a number as an argument and returns True or False depending on whether the number is symmetrical or not. A number is symmetrical when it is the same as its reverse."
   ]
  },
  {
   "cell_type": "code",
   "execution_count": 2,
   "id": "1bb623fb",
   "metadata": {},
   "outputs": [
    {
     "name": "stdout",
     "output_type": "stream",
     "text": [
      "True\n"
     ]
    }
   ],
   "source": [
    "def symmetrical(n):\n",
    "    a=str(n)[::-1]\n",
    "    if int(a)==int(n):\n",
    "        return True\n",
    "    else:\n",
    "        return bool(0)\n",
    "a=symmetrical(7227)\n",
    "print(a)"
   ]
  },
  {
   "cell_type": "markdown",
   "id": "c1710bfb",
   "metadata": {},
   "source": [
    "# Given a string of numbers separated by a comma and space, return the product of the numbers."
   ]
  },
  {
   "cell_type": "code",
   "execution_count": 14,
   "id": "c3153c74",
   "metadata": {},
   "outputs": [
    {
     "name": "stdout",
     "output_type": "stream",
     "text": [
      "6\n"
     ]
    }
   ],
   "source": [
    "def multiply(f):\n",
    "    k=1\n",
    "    for i in f:\n",
    "        k*=int(i)\n",
    "    return k\n",
    "a=multiply((2,3))\n",
    "print(a)"
   ]
  },
  {
   "cell_type": "markdown",
   "id": "a07db3f5",
   "metadata": {},
   "source": [
    "# Create a function that squares every digit of a number."
   ]
  },
  {
   "cell_type": "code",
   "execution_count": 19,
   "id": "88e0d22b",
   "metadata": {},
   "outputs": [
    {
     "name": "stdout",
     "output_type": "stream",
     "text": [
      "811181\n"
     ]
    }
   ],
   "source": [
    "def square(n):\n",
    "    k=''\n",
    "    for i in str(n):\n",
    "        k+=str(int(i)**2)\n",
    "    return k\n",
    "a=square(9119)\n",
    "print(a)"
   ]
  },
  {
   "cell_type": "markdown",
   "id": "52333223",
   "metadata": {},
   "source": [
    "# Create a function that sorts a list and removes all duplicate items from it."
   ]
  },
  {
   "cell_type": "code",
   "execution_count": 22,
   "id": "21f168e9",
   "metadata": {},
   "outputs": [
    {
     "name": "stdout",
     "output_type": "stream",
     "text": [
      "[1, 3, 5, 6, 9]\n"
     ]
    }
   ],
   "source": [
    "def dulicate(list1):\n",
    "    s=set()\n",
    "    for i in list1:\n",
    "        s.add(i)\n",
    "    return list(s)\n",
    "a=dulicate([1,1,5,5,6,3,3,9,9])\n",
    "print(a)"
   ]
  },
  {
   "cell_type": "markdown",
   "id": "c18419b3",
   "metadata": {},
   "source": [
    "# Create a function that returns the mean of all digits."
   ]
  },
  {
   "cell_type": "code",
   "execution_count": 24,
   "id": "cdf6673e",
   "metadata": {},
   "outputs": [
    {
     "name": "stdout",
     "output_type": "stream",
     "text": [
      "3\n"
     ]
    }
   ],
   "source": [
    "def mean(n):\n",
    "    k=0\n",
    "    for i in (str(n)):\n",
    "        k+=int(i)\n",
    "    return int(k)//len(str(n))\n",
    "a=mean(42)\n",
    "print(a)\n",
    "        "
   ]
  },
  {
   "cell_type": "code",
   "execution_count": null,
   "id": "5fba767b",
   "metadata": {},
   "outputs": [],
   "source": []
  }
 ],
 "metadata": {
  "kernelspec": {
   "display_name": "Python 3 (ipykernel)",
   "language": "python",
   "name": "python3"
  },
  "language_info": {
   "codemirror_mode": {
    "name": "ipython",
    "version": 3
   },
   "file_extension": ".py",
   "mimetype": "text/x-python",
   "name": "python",
   "nbconvert_exporter": "python",
   "pygments_lexer": "ipython3",
   "version": "3.9.12"
  }
 },
 "nbformat": 4,
 "nbformat_minor": 5
}
