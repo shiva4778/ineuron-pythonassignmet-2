{
 "cells": [
  {
   "cell_type": "markdown",
   "id": "18360c56",
   "metadata": {},
   "source": [
    " # Create a function that takes three integer arguments (a, b, c) and returns the amount of integers which are of equal value."
   ]
  },
  {
   "cell_type": "code",
   "execution_count": 5,
   "id": "3d18e958",
   "metadata": {},
   "outputs": [
    {
     "name": "stdout",
     "output_type": "stream",
     "text": [
      "0\n"
     ]
    }
   ],
   "source": [
    "def count(*args):\n",
    "    k=args\n",
    "    s=0\n",
    "    for i in k:\n",
    "        if k.count(i)>1:\n",
    "            s=k.count(i)\n",
    "    return s\n",
    "a=count(1,9,7)\n",
    "print(a)"
   ]
  },
  {
   "cell_type": "markdown",
   "id": "53412b4a",
   "metadata": {},
   "source": [
    "# Write a function that converts a dictionary into a list of keys-values tuples."
   ]
  },
  {
   "cell_type": "code",
   "execution_count": 9,
   "id": "cc312a0e",
   "metadata": {},
   "outputs": [
    {
     "name": "stdout",
     "output_type": "stream",
     "text": [
      "[('a', 6), ('c', 2), ('r', 6), ('w', 2)]\n"
     ]
    }
   ],
   "source": [
    "d={'c':2,'r':6,'a':6,'w':2}\n",
    "def convert(dict1):\n",
    "    a=[]\n",
    "    for i in dict1:\n",
    "        a.append((i,d[i]))\n",
    "        a.sort()\n",
    "    return a\n",
    "a=convert(d)\n",
    "print(a)"
   ]
  },
  {
   "cell_type": "markdown",
   "id": "63729598",
   "metadata": {},
   "source": [
    "# Write a function that creates a dictionary with each (key, value) pair being the (lower case, upper case) versions of a letter, respectively."
   ]
  },
  {
   "cell_type": "code",
   "execution_count": 13,
   "id": "1a9e65cb",
   "metadata": {},
   "outputs": [
    {
     "name": "stdout",
     "output_type": "stream",
     "text": [
      "{'a': 'A', 'T': 't'}\n"
     ]
    }
   ],
   "source": [
    "def key(list1):\n",
    "    d={}\n",
    "    for i in list1:\n",
    "        if i.islower():\n",
    "            d[i]=i.upper()\n",
    "        else:\n",
    "            d[i]=i.lower()\n",
    "    return d\n",
    "a=key(['a','T'])\n",
    "print(a)"
   ]
  },
  {
   "cell_type": "markdown",
   "id": "a3aedbda",
   "metadata": {},
   "source": [
    "# Write a function, that replaces all vowels in a string with a specified vowel."
   ]
  },
  {
   "cell_type": "code",
   "execution_count": 14,
   "id": "a78415ba",
   "metadata": {},
   "outputs": [
    {
     "name": "stdout",
     "output_type": "stream",
     "text": [
      "shevenshe\n"
     ]
    }
   ],
   "source": [
    "def vowels(a,b):\n",
    "    c=''\n",
    "    for i in range(len(a)):\n",
    "        if a[i] in 'aeiou':\n",
    "            c+=b\n",
    "        else:\n",
    "            c+=a[i]\n",
    "    return c\n",
    "a=vowels('shivanshu','e')\n",
    "print(a)"
   ]
  },
  {
   "cell_type": "markdown",
   "id": "62a23eb1",
   "metadata": {},
   "source": [
    "# Create a function that takes a string as input and capitalizes a letter if its ASCII code is even and returns its lower case version if its ASCII code is odd."
   ]
  },
  {
   "cell_type": "code",
   "execution_count": 25,
   "id": "6e636c07",
   "metadata": {},
   "outputs": [
    {
     "name": "stdout",
     "output_type": "stream",
     "text": [
      "tO bE Or nOt tO bE!\n"
     ]
    }
   ],
   "source": [
    "def capitalize(string):\n",
    "    k=''\n",
    "    for i in string:\n",
    "        s=ord(i)\n",
    "        if s%2==0:\n",
    "            k+=i.swapcase()\n",
    "        elif s%2==1:\n",
    "            k+=i.swapcase()\n",
    "    return k\n",
    "a=capitalize('To Be oR NoT To Be!')\n",
    "print(a)"
   ]
  },
  {
   "cell_type": "code",
   "execution_count": null,
   "id": "1b628812",
   "metadata": {},
   "outputs": [],
   "source": []
  }
 ],
 "metadata": {
  "kernelspec": {
   "display_name": "Python 3 (ipykernel)",
   "language": "python",
   "name": "python3"
  },
  "language_info": {
   "codemirror_mode": {
    "name": "ipython",
    "version": 3
   },
   "file_extension": ".py",
   "mimetype": "text/x-python",
   "name": "python",
   "nbconvert_exporter": "python",
   "pygments_lexer": "ipython3",
   "version": "3.9.12"
  }
 },
 "nbformat": 4,
 "nbformat_minor": 5
}
