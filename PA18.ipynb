{
 "cells": [
  {
   "cell_type": "markdown",
   "id": "70b806e6",
   "metadata": {},
   "source": [
    "# Create a function that takes a list of non-negative integers and strings and return a new list without the strings."
   ]
  },
  {
   "cell_type": "code",
   "execution_count": 7,
   "id": "187da77b",
   "metadata": {},
   "outputs": [
    {
     "name": "stdout",
     "output_type": "stream",
     "text": [
      "[1, 5, 12]\n"
     ]
    }
   ],
   "source": [
    "a=[1,'a','shivanshu',5,'12']\n",
    "k=[]\n",
    "for i in a:\n",
    "    l=str(i)\n",
    "    if l.isdigit():\n",
    "        k.append(int(i))\n",
    "print(k)"
   ]
  },
  {
   "cell_type": "markdown",
   "id": "1f2f6920",
   "metadata": {},
   "source": [
    "# The &quot;Reverser&quot; takes a string as input and returns that string in reverse order, with the opposite case."
   ]
  },
  {
   "cell_type": "code",
   "execution_count": 10,
   "id": "908e7ae1",
   "metadata": {},
   "outputs": [
    {
     "name": "stdout",
     "output_type": "stream",
     "text": [
      "DLROw OLLEh\n"
     ]
    }
   ],
   "source": [
    "a=\"Hello World\"\n",
    "k=''\n",
    "for i in a:\n",
    "    k+=i.swapcase()\n",
    "print(k[::-1])"
   ]
  },
  {
   "cell_type": "markdown",
   "id": "7a8c80a2",
   "metadata": {},
   "source": [
    "# With Python 3, you can assign variables from lists in a much more succinct way. Create variables first, middle and last from the given list using destructuring assignment (check the Resources tab for some examples), where:"
   ]
  },
  {
   "cell_type": "code",
   "execution_count": 13,
   "id": "c17551a6",
   "metadata": {},
   "outputs": [],
   "source": [
    "a=[i for i in range(1,7)]"
   ]
  },
  {
   "cell_type": "code",
   "execution_count": 14,
   "id": "64900f73",
   "metadata": {},
   "outputs": [
    {
     "name": "stdout",
     "output_type": "stream",
     "text": [
      "1\n",
      "[2, 3, 4, 5]\n",
      "6\n"
     ]
    }
   ],
   "source": [
    "print(a[0])\n",
    "print(a[1:-1])\n",
    "print(a[-1])"
   ]
  },
  {
   "cell_type": "markdown",
   "id": "222aa2aa",
   "metadata": {},
   "source": [
    "# Write a function that calculates the factorial of a number recursively."
   ]
  },
  {
   "cell_type": "code",
   "execution_count": 16,
   "id": "942605d3",
   "metadata": {},
   "outputs": [
    {
     "name": "stdout",
     "output_type": "stream",
     "text": [
      "720\n"
     ]
    }
   ],
   "source": [
    "def fact(n):\n",
    "    if n==1:\n",
    "        return 1\n",
    "    else:\n",
    "        return(n*fact(n-1))\n",
    "a=fact(6)\n",
    "print(a)"
   ]
  },
  {
   "cell_type": "markdown",
   "id": "b32b635e",
   "metadata": {},
   "source": [
    "# Write a function that moves all elements of one type to the end of the list."
   ]
  },
  {
   "cell_type": "code",
   "execution_count": 17,
   "id": "a30d937c",
   "metadata": {},
   "outputs": [
    {
     "name": "stdout",
     "output_type": "stream",
     "text": [
      "[3, 2, 4, 4, 1, 1]\n"
     ]
    }
   ],
   "source": [
    "a=[1, 3, 2, 4, 4, 1]\n",
    "tp=1\n",
    "k=list()\n",
    "for i in a:\n",
    "    if i!=tp:\n",
    "        k.append(i)\n",
    "for i in a:\n",
    "    if i==tp:\n",
    "        k.append(i)\n",
    "print(k)"
   ]
  },
  {
   "cell_type": "code",
   "execution_count": null,
   "id": "65330974",
   "metadata": {},
   "outputs": [],
   "source": [
    "    "
   ]
  }
 ],
 "metadata": {
  "kernelspec": {
   "display_name": "Python 3 (ipykernel)",
   "language": "python",
   "name": "python3"
  },
  "language_info": {
   "codemirror_mode": {
    "name": "ipython",
    "version": 3
   },
   "file_extension": ".py",
   "mimetype": "text/x-python",
   "name": "python",
   "nbconvert_exporter": "python",
   "pygments_lexer": "ipython3",
   "version": "3.9.12"
  }
 },
 "nbformat": 4,
 "nbformat_minor": 5
}
