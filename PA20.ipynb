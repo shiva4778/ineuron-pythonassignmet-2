{
 "cells": [
  {
   "cell_type": "markdown",
   "id": "aa30d6d0",
   "metadata": {},
   "source": [
    "# Create a function that takes a list of strings and integers, and filters out the list so that it returns a list of integers only."
   ]
  },
  {
   "cell_type": "code",
   "execution_count": 8,
   "id": "5197fb8e",
   "metadata": {},
   "outputs": [
    {
     "name": "stdout",
     "output_type": "stream",
     "text": [
      "[1, 2, 3, 4]\n"
     ]
    }
   ],
   "source": [
    "def filt(n):\n",
    "    s=[]\n",
    "    for i in n:\n",
    "        if str(i).isdigit():\n",
    "            s.append(int(i))\n",
    "    return s\n",
    "a=filt([1, 2, 3, 'a','b', 4])\n",
    "print(a)"
   ]
  },
  {
   "cell_type": "markdown",
   "id": "af30c643",
   "metadata": {},
   "source": [
    "# Given a list of numbers, create a function which returns the list but with each element&#39;s index in the list added to itself. This means you add 0 to the number at index 0, add 1 to the number at index 1, etc..."
   ]
  },
  {
   "cell_type": "code",
   "execution_count": 12,
   "id": "5ff385fc",
   "metadata": {},
   "outputs": [],
   "source": [
    "def list1(n):\n",
    "    k=[]\n",
    "    for i in range(len(n)):\n",
    "        k.append(i+n[i])\n",
    "    return k\n",
    "a=list1([i for i in range(10)])"
   ]
  },
  {
   "cell_type": "code",
   "execution_count": 13,
   "id": "7db4c6d0",
   "metadata": {},
   "outputs": [
    {
     "name": "stdout",
     "output_type": "stream",
     "text": [
      "[0, 2, 4, 6, 8, 10, 12, 14, 16, 18]\n"
     ]
    }
   ],
   "source": [
    "print(a)"
   ]
  },
  {
   "cell_type": "markdown",
   "id": "17e8a019",
   "metadata": {},
   "source": [
    "# Create a function that takes the height and radius of a cone as arguments and returns the volume of the cone rounded to the nearest hundredth. See the resources tab for the formula."
   ]
  },
  {
   "cell_type": "code",
   "execution_count": 20,
   "id": "942ac8a5",
   "metadata": {},
   "outputs": [],
   "source": [
    "def area(height,radius):\n",
    "    \n",
    "    \n",
    "    k=((3.14*radius)*(radius+(1/2**(height**2+radius**2))))\n",
    "    return k"
   ]
  },
  {
   "cell_type": "code",
   "execution_count": 22,
   "id": "97efb9bc",
   "metadata": {},
   "outputs": [
    {
     "data": {
      "text/plain": [
       "12.5607666015625"
      ]
     },
     "execution_count": 22,
     "metadata": {},
     "output_type": "execute_result"
    }
   ],
   "source": [
    "area(3,2)"
   ]
  },
  {
   "cell_type": "markdown",
   "id": "532720f0",
   "metadata": {},
   "source": [
    "# This Triangular Number Sequence is generated from a pattern of dots that form a triangle. The first 5 numbers of the sequence, or dots, are:"
   ]
  },
  {
   "cell_type": "code",
   "execution_count": 27,
   "id": "9c8e191d",
   "metadata": {},
   "outputs": [
    {
     "name": "stdout",
     "output_type": "stream",
     "text": [
      "21\n"
     ]
    }
   ],
   "source": [
    "def dots(n):\n",
    "    return (n*(n+1))//2\n",
    "a=dots(6)\n",
    "print(a)\n",
    "    "
   ]
  },
  {
   "cell_type": "markdown",
   "id": "e3333019",
   "metadata": {},
   "source": [
    "# Create a function that takes a list of numbers between 1 and 10 (excluding one number) and returns the missing number."
   ]
  },
  {
   "cell_type": "code",
   "execution_count": 30,
   "id": "cb327942",
   "metadata": {},
   "outputs": [
    {
     "name": "stdout",
     "output_type": "stream",
     "text": [
      "6\n"
     ]
    }
   ],
   "source": [
    "def list1(n):\n",
    "    max1=max(n)\n",
    "    min1=min(n)\n",
    "    for i in range(min1,max1+1):\n",
    "        if i not in n:\n",
    "            return i\n",
    "a=list1([8,4,3,1,2,5,7,9])\n",
    "print(a)"
   ]
  },
  {
   "cell_type": "code",
   "execution_count": null,
   "id": "9fc062ec",
   "metadata": {},
   "outputs": [],
   "source": []
  }
 ],
 "metadata": {
  "kernelspec": {
   "display_name": "Python 3 (ipykernel)",
   "language": "python",
   "name": "python3"
  },
  "language_info": {
   "codemirror_mode": {
    "name": "ipython",
    "version": 3
   },
   "file_extension": ".py",
   "mimetype": "text/x-python",
   "name": "python",
   "nbconvert_exporter": "python",
   "pygments_lexer": "ipython3",
   "version": "3.9.12"
  }
 },
 "nbformat": 4,
 "nbformat_minor": 5
}
