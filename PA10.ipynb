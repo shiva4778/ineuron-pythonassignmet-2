{
 "cells": [
  {
   "cell_type": "markdown",
   "id": "dcd756c2",
   "metadata": {},
   "source": [
    "# 1. Write a Python program to find sum of elements in list?"
   ]
  },
  {
   "cell_type": "code",
   "execution_count": 1,
   "id": "28f19b9d",
   "metadata": {},
   "outputs": [
    {
     "name": "stdout",
     "output_type": "stream",
     "text": [
      "45\n"
     ]
    }
   ],
   "source": [
    "a=[i for i in range(10)]\n",
    "sum=0\n",
    "for i in a:\n",
    "    sum+=i\n",
    "print(sum)"
   ]
  },
  {
   "cell_type": "markdown",
   "id": "71482c40",
   "metadata": {},
   "source": [
    "# 2. Write a Python program to Multiply all numbers in the list?"
   ]
  },
  {
   "cell_type": "code",
   "execution_count": 3,
   "id": "973f651a",
   "metadata": {},
   "outputs": [
    {
     "name": "stdout",
     "output_type": "stream",
     "text": [
      "362880\n"
     ]
    }
   ],
   "source": [
    "a=[j for j in range(1,10)]\n",
    "mul=1\n",
    "for i in a:\n",
    "    mul*=i\n",
    "print(mul)"
   ]
  },
  {
   "cell_type": "markdown",
   "id": "c8815e9e",
   "metadata": {},
   "source": [
    "# 3. Write a Python program to find smallest number in a list?"
   ]
  },
  {
   "cell_type": "code",
   "execution_count": 5,
   "id": "c0183f26",
   "metadata": {},
   "outputs": [
    {
     "name": "stdout",
     "output_type": "stream",
     "text": [
      "1\n"
     ]
    }
   ],
   "source": [
    "s=[2,8,6,1,6,8,4]\n",
    "small=s[0]\n",
    "for i in s:\n",
    "    if small>=i:\n",
    "        small=i\n",
    "print(small)"
   ]
  },
  {
   "cell_type": "markdown",
   "id": "968dbcde",
   "metadata": {},
   "source": [
    "# 4. Write a Python program to find largest number in a list?"
   ]
  },
  {
   "cell_type": "code",
   "execution_count": 6,
   "id": "b18f3b69",
   "metadata": {},
   "outputs": [
    {
     "name": "stdout",
     "output_type": "stream",
     "text": [
      "56\n"
     ]
    }
   ],
   "source": [
    "l=[2,8,6,4,9,7,10,56,23]\n",
    "largest=l[0]\n",
    "for i in l:\n",
    "    if i>largest:\n",
    "        largest=i\n",
    "print(largest\n",
    "     )"
   ]
  },
  {
   "cell_type": "markdown",
   "id": "7dbe52fd",
   "metadata": {},
   "source": [
    "# 5. Write a Python program to find second largest number in a list?"
   ]
  },
  {
   "cell_type": "code",
   "execution_count": 11,
   "id": "f0f6ca89",
   "metadata": {},
   "outputs": [
    {
     "name": "stdout",
     "output_type": "stream",
     "text": [
      "487 166\n"
     ]
    }
   ],
   "source": [
    "l=[0,2,6,4,487,166,56,23]\n",
    "largest=l[0]\n",
    "largest1=l[1]\n",
    "for i in l:\n",
    "    if i>largest:\n",
    "        largest=i\n",
    "    elif i>largest1 and largest1<largest:\n",
    "        largest1=i\n",
    "print(largest,largest1)"
   ]
  },
  {
   "cell_type": "markdown",
   "id": "52359877",
   "metadata": {},
   "source": [
    "# 6. Write a Python program to find N largest elements from a list?"
   ]
  },
  {
   "cell_type": "code",
   "execution_count": 13,
   "id": "d507b176",
   "metadata": {},
   "outputs": [
    {
     "name": "stdout",
     "output_type": "stream",
     "text": [
      "enter the no you want to find its largest3\n",
      "[8, 8, 23, 45, 65, 78]\n"
     ]
    }
   ],
   "source": [
    "l=[2,8,6,2,8,78,65,23,45]\n",
    "n=int(input('enter the no you want to find its largest'))\n",
    "l.sort()\n",
    "k=l[n:]\n",
    "print(k)"
   ]
  },
  {
   "cell_type": "markdown",
   "id": "5b17878a",
   "metadata": {},
   "source": [
    "# 7. Write a Python program to print even numbers in a list?"
   ]
  },
  {
   "cell_type": "code",
   "execution_count": 14,
   "id": "b19dd43c",
   "metadata": {},
   "outputs": [
    {
     "name": "stdout",
     "output_type": "stream",
     "text": [
      "[0, 2, 4, 6, 8, 10, 12, 14, 16, 18]\n"
     ]
    }
   ],
   "source": [
    "l=[i for i in range(20)]\n",
    "k=[]\n",
    "for i in l:\n",
    "    if i%2==0:\n",
    "        k.append(i)\n",
    "print(k)"
   ]
  },
  {
   "cell_type": "markdown",
   "id": "1fbe9d0b",
   "metadata": {},
   "source": [
    "# 8. Write a Python program to print odd numbers in a List?"
   ]
  },
  {
   "cell_type": "code",
   "execution_count": 16,
   "id": "a66cc4d0",
   "metadata": {},
   "outputs": [
    {
     "name": "stdout",
     "output_type": "stream",
     "text": [
      "[1, 3, 5, 7, 9, 11, 13, 15, 17, 19, 21, 23, 25, 27, 29]\n"
     ]
    }
   ],
   "source": [
    "l=[i for i in range(30)]\n",
    "k=[]\n",
    "for i in l :\n",
    "    if i%2!=0:\n",
    "        k.append(i)\n",
    "print(k)"
   ]
  },
  {
   "cell_type": "markdown",
   "id": "5f80bc94",
   "metadata": {},
   "source": [
    "# 9. Write a Python program to Remove empty List from List?"
   ]
  },
  {
   "cell_type": "code",
   "execution_count": 28,
   "id": "81b114e2",
   "metadata": {},
   "outputs": [],
   "source": [
    "l=[[i for i in range(3)],[],[j for j in range(10)]]"
   ]
  },
  {
   "cell_type": "code",
   "execution_count": 30,
   "id": "432ab1d2",
   "metadata": {},
   "outputs": [
    {
     "name": "stdout",
     "output_type": "stream",
     "text": [
      "[[0, 1, 2], [0, 1, 2, 3, 4, 5, 6, 7, 8, 9]]\n"
     ]
    }
   ],
   "source": [
    "for i in l:\n",
    "    if len(i)==0:\n",
    "        l.remove(i)\n",
    "print(l)"
   ]
  },
  {
   "cell_type": "markdown",
   "id": "d4b53382",
   "metadata": {},
   "source": [
    "# 10. Write a Python program to Cloning or Copying a list?"
   ]
  },
  {
   "cell_type": "code",
   "execution_count": 64,
   "id": "ad58e5c2",
   "metadata": {},
   "outputs": [],
   "source": [
    "l=[[i for i in range(5)] ,[j for j in range(10)]]\n",
    "c=l.copy()"
   ]
  },
  {
   "cell_type": "code",
   "execution_count": 65,
   "id": "7ac026ea",
   "metadata": {},
   "outputs": [
    {
     "data": {
      "text/plain": [
       "2335760457152"
      ]
     },
     "execution_count": 65,
     "metadata": {},
     "output_type": "execute_result"
    }
   ],
   "source": [
    "id(c)"
   ]
  },
  {
   "cell_type": "code",
   "execution_count": 66,
   "id": "63826099",
   "metadata": {},
   "outputs": [
    {
     "data": {
      "text/plain": [
       "2335761587072"
      ]
     },
     "execution_count": 66,
     "metadata": {},
     "output_type": "execute_result"
    }
   ],
   "source": [
    "id(l)"
   ]
  },
  {
   "cell_type": "code",
   "execution_count": 67,
   "id": "e247ec8a",
   "metadata": {},
   "outputs": [],
   "source": [
    "from copy import copy,deepcopy"
   ]
  },
  {
   "cell_type": "code",
   "execution_count": 68,
   "id": "03e05ca8",
   "metadata": {},
   "outputs": [],
   "source": [
    "f=copy(l)"
   ]
  },
  {
   "cell_type": "code",
   "execution_count": 69,
   "id": "60012f48",
   "metadata": {},
   "outputs": [
    {
     "data": {
      "text/plain": [
       "[0, 1, 2, 3, 4, 5, 6, 7, 8, 9]"
      ]
     },
     "execution_count": 69,
     "metadata": {},
     "output_type": "execute_result"
    }
   ],
   "source": [
    "f.pop(1)"
   ]
  },
  {
   "cell_type": "code",
   "execution_count": 70,
   "id": "8d4033f6",
   "metadata": {},
   "outputs": [
    {
     "data": {
      "text/plain": [
       "[[0, 1, 2, 3, 4]]"
      ]
     },
     "execution_count": 70,
     "metadata": {},
     "output_type": "execute_result"
    }
   ],
   "source": [
    "f"
   ]
  },
  {
   "cell_type": "code",
   "execution_count": 71,
   "id": "fbeb5504",
   "metadata": {},
   "outputs": [
    {
     "data": {
      "text/plain": [
       "[[0, 1, 2, 3, 4], [0, 1, 2, 3, 4, 5, 6, 7, 8, 9]]"
      ]
     },
     "execution_count": 71,
     "metadata": {},
     "output_type": "execute_result"
    }
   ],
   "source": [
    "l"
   ]
  },
  {
   "cell_type": "code",
   "execution_count": 119,
   "id": "53536814",
   "metadata": {},
   "outputs": [],
   "source": [
    "a=[[1,2,6,4],[5,6,7,8]]\n",
    "b=a.copy()\n",
    "\n"
   ]
  },
  {
   "cell_type": "markdown",
   "id": "5a913d77",
   "metadata": {},
   "source": [
    "# 11. Write a Python program to Count occurrences of an element in a list?"
   ]
  },
  {
   "cell_type": "code",
   "execution_count": 121,
   "id": "23ddd892",
   "metadata": {},
   "outputs": [
    {
     "name": "stdout",
     "output_type": "stream",
     "text": [
      "enter the element you want to count4\n",
      "2\n"
     ]
    }
   ],
   "source": [
    "l=[4,5,6,8,5,4,3]\n",
    "n=int(input('enter the element you want to count'))\n",
    "print(l.count(n))"
   ]
  },
  {
   "cell_type": "code",
   "execution_count": null,
   "id": "d0e9bdda",
   "metadata": {},
   "outputs": [],
   "source": []
  }
 ],
 "metadata": {
  "kernelspec": {
   "display_name": "Python 3 (ipykernel)",
   "language": "python",
   "name": "python3"
  },
  "language_info": {
   "codemirror_mode": {
    "name": "ipython",
    "version": 3
   },
   "file_extension": ".py",
   "mimetype": "text/x-python",
   "name": "python",
   "nbconvert_exporter": "python",
   "pygments_lexer": "ipython3",
   "version": "3.9.12"
  }
 },
 "nbformat": 4,
 "nbformat_minor": 5
}
