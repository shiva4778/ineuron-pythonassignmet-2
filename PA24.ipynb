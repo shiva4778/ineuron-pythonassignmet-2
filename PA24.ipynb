{
 "cells": [
  {
   "cell_type": "markdown",
   "id": "e956111d",
   "metadata": {},
   "source": [
    "# Create a function that takes an integer and returns a list from 1 to the given number, where:\n",
    "1. If the number can be divided evenly by 4, amplify it by 10 (i.e. return 10 times the\n",
    "number).\n",
    "2. If the number cannot be divided evenly by 4, simply return the number."
   ]
  },
  {
   "cell_type": "code",
   "execution_count": 6,
   "id": "3d02c0a3",
   "metadata": {},
   "outputs": [
    {
     "name": "stdout",
     "output_type": "stream",
     "text": [
      "[1, 2, 3, 40, 5, 6, 7, 80, 9, 10, 11, 120, 13, 14, 15, 160, 17, 18, 19, 200, 21, 22, 23, 240, 25]\n"
     ]
    }
   ],
   "source": [
    "def func(n):\n",
    "    k=[]\n",
    "    for i in range(1,n+1):\n",
    "        if i%4==0:\n",
    "            k.append(i*10)\n",
    "        else:\n",
    "            k.append(i)\n",
    "    return k\n",
    "a=func(25)\n",
    "print(a)"
   ]
  },
  {
   "cell_type": "markdown",
   "id": "9e09de94",
   "metadata": {},
   "source": [
    "# Create a function that takes a list of numbers and return the number that&#39;s unique."
   ]
  },
  {
   "cell_type": "code",
   "execution_count": 9,
   "id": "6ad22356",
   "metadata": {},
   "outputs": [
    {
     "name": "stdout",
     "output_type": "stream",
     "text": [
      "5\n"
     ]
    }
   ],
   "source": [
    "def unique(n):\n",
    "    for i in n:\n",
    "        if n.count(i)==1:\n",
    "            return i\n",
    "a=unique([1,1,1,5,8,8])\n",
    "print(a)"
   ]
  },
  {
   "cell_type": "markdown",
   "id": "8d143408",
   "metadata": {},
   "source": [
    "# Your task is to create a Circle constructor that creates a circle with a radius provided by an argument. The circles constructed must have two getters getArea() (PIr^2) and getPerimeter() (2PI*r) which give both respective areas and perimeter (circumference)."
   ]
  },
  {
   "cell_type": "code",
   "execution_count": 20,
   "id": "2486b980",
   "metadata": {},
   "outputs": [],
   "source": [
    "class circle:\n",
    "    def __init__(self,radius):\n",
    "        self.radius=radius\n",
    "    def getarea(self):\n",
    "        return (3.14159265359*self.radius**2)\n",
    "    def getperimeter(self):\n",
    "        return (3.14159265359*self.radius*2)"
   ]
  },
  {
   "cell_type": "code",
   "execution_count": 21,
   "id": "715852bc",
   "metadata": {},
   "outputs": [],
   "source": [
    "a=circle(11)"
   ]
  },
  {
   "cell_type": "code",
   "execution_count": 22,
   "id": "afe2b573",
   "metadata": {},
   "outputs": [
    {
     "data": {
      "text/plain": [
       "380.13271108439"
      ]
     },
     "execution_count": 22,
     "metadata": {},
     "output_type": "execute_result"
    }
   ],
   "source": [
    "a.getarea()"
   ]
  },
  {
   "cell_type": "markdown",
   "id": "821f5730",
   "metadata": {},
   "source": [
    "# Create a function that takes a list of strings and return a list, sorted from shortest to longest."
   ]
  },
  {
   "cell_type": "code",
   "execution_count": 24,
   "id": "a69910b4",
   "metadata": {},
   "outputs": [
    {
     "name": "stdout",
     "output_type": "stream",
     "text": [
      "['Apple', 'Google', 'Microsoft']\n",
      "['Raphael', 'Leonardo', 'Donatello', 'Michelangelo']\n",
      "['Jung', 'Turing', 'Einstein']\n"
     ]
    }
   ],
   "source": [
    "def sort_by_length(in_list):\n",
    "    print(sorted(in_list,key=len))\n",
    "\n",
    "sort_by_length([\"Google\", \"Apple\", \"Microsoft\"])\n",
    "sort_by_length([\"Leonardo\", \"Michelangelo\", \"Raphael\", \"Donatello\"])\n",
    "sort_by_length([\"Turing\", \"Einstein\", \"Jung\"])"
   ]
  },
  {
   "cell_type": "markdown",
   "id": "5e70e68b",
   "metadata": {},
   "source": [
    "# Create a function that validates whether three given integers form a Pythagorean triplet. The sum of the squares of the two smallest integers must equal the square of the largest number to be validated."
   ]
  },
  {
   "cell_type": "code",
   "execution_count": 28,
   "id": "dd41d1d9",
   "metadata": {},
   "outputs": [
    {
     "name": "stdout",
     "output_type": "stream",
     "text": [
      "False\n"
     ]
    }
   ],
   "source": [
    "def pythagoras(*w):\n",
    "    a,b,c=w\n",
    "    if a**2+b**2==c**2 or a**2+c**2==b**2 or b**2+c**2==a**2:\n",
    "        return True\n",
    "    else:\n",
    "        return False\n",
    "a=pythagoras(9,4,5)\n",
    "print(a)"
   ]
  },
  {
   "cell_type": "code",
   "execution_count": null,
   "id": "751b7917",
   "metadata": {},
   "outputs": [],
   "source": []
  }
 ],
 "metadata": {
  "kernelspec": {
   "display_name": "Python 3 (ipykernel)",
   "language": "python",
   "name": "python3"
  },
  "language_info": {
   "codemirror_mode": {
    "name": "ipython",
    "version": 3
   },
   "file_extension": ".py",
   "mimetype": "text/x-python",
   "name": "python",
   "nbconvert_exporter": "python",
   "pygments_lexer": "ipython3",
   "version": "3.9.12"
  }
 },
 "nbformat": 4,
 "nbformat_minor": 5
}
