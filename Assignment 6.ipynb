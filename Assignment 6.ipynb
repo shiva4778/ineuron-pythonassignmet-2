{
 "cells": [
  {
   "cell_type": "markdown",
   "id": "b3cb7ba4",
   "metadata": {},
   "source": [
    "Assignment 6\n"
   ]
  },
  {
   "cell_type": "markdown",
   "id": "610b5469",
   "metadata": {},
   "source": [
    "# 1"
   ]
  },
  {
   "cell_type": "markdown",
   "id": "0f1447d2",
   "metadata": {},
   "source": [
    "'\\' is a escape sequence>it is used for representing certain whitespace character.ex '\\n' mans newline,'\\t',means horizontal tab,'\\r',means carriage return."
   ]
  },
  {
   "cell_type": "markdown",
   "id": "5efcb38b",
   "metadata": {},
   "source": [
    "# 2"
   ]
  },
  {
   "cell_type": "markdown",
   "id": "702dbaaf",
   "metadata": {},
   "source": [
    "\\n stand for new line and \\t stand for tab in python"
   ]
  },
  {
   "cell_type": "markdown",
   "id": "cff532ed",
   "metadata": {},
   "source": [
    "# 3\n"
   ]
  },
  {
   "cell_type": "markdown",
   "id": "b65c975c",
   "metadata": {},
   "source": [
    "'\\\\' is a way to include backslash in string"
   ]
  },
  {
   "cell_type": "markdown",
   "id": "e44f8b03",
   "metadata": {},
   "source": [
    "# 4"
   ]
  },
  {
   "cell_type": "markdown",
   "id": "63751a52",
   "metadata": {},
   "source": [
    "It is going to create a error ,for this we have to use '\\'' for creating  apostrophe."
   ]
  },
  {
   "cell_type": "markdown",
   "id": "6ea0bf2b",
   "metadata": {},
   "source": [
    "# 5."
   ]
  },
  {
   "cell_type": "markdown",
   "id": "d6a112e1",
   "metadata": {},
   "source": [
    "for this we can use doc string like 3 apostrophe '''  '''.."
   ]
  },
  {
   "cell_type": "markdown",
   "id": "9b91b0e9",
   "metadata": {},
   "source": [
    "# 6"
   ]
  },
  {
   "cell_type": "markdown",
   "id": "43f755e2",
   "metadata": {},
   "source": [
    "e,\n",
    "'Hello',\n",
    "'Hello',\n",
    "'lo.world!'"
   ]
  },
  {
   "cell_type": "markdown",
   "id": "a05f62d6",
   "metadata": {},
   "source": [
    "# 7"
   ]
  },
  {
   "cell_type": "markdown",
   "id": "cdfc55d5",
   "metadata": {},
   "source": [
    "HELLO,True,False,"
   ]
  },
  {
   "cell_type": "markdown",
   "id": "d505dd73",
   "metadata": {},
   "source": [
    "# 8"
   ]
  },
  {
   "cell_type": "code",
   "execution_count": 15,
   "id": "b2f1c35a",
   "metadata": {},
   "outputs": [
    {
     "data": {
      "text/plain": [
       "['Remember,', 'remember,', 'the', 'fifth', 'of', 'July']"
      ]
     },
     "execution_count": 15,
     "metadata": {},
     "output_type": "execute_result"
    }
   ],
   "source": [
    "'Remember, remember, the fifth of July'.split()"
   ]
  },
  {
   "cell_type": "code",
   "execution_count": 16,
   "id": "66644416",
   "metadata": {},
   "outputs": [
    {
     "data": {
      "text/plain": [
       "'There-can-only-one'"
      ]
     },
     "execution_count": 16,
     "metadata": {},
     "output_type": "execute_result"
    }
   ],
   "source": [
    "'-'.join('There can only one'.split())"
   ]
  },
  {
   "cell_type": "markdown",
   "id": "20863734",
   "metadata": {},
   "source": [
    "# 9."
   ]
  },
  {
   "cell_type": "markdown",
   "id": "731a7b6d",
   "metadata": {},
   "source": [
    "str.ljust(len,fillchr)\n",
    "str.rjust(len,fillchr)\n",
    "str.center(len,fillchr)"
   ]
  },
  {
   "cell_type": "markdown",
   "id": "cd75710f",
   "metadata": {},
   "source": [
    "# 10."
   ]
  },
  {
   "cell_type": "markdown",
   "id": "227aa7d8",
   "metadata": {},
   "source": [
    "trim() is used to remove the whitespace character"
   ]
  },
  {
   "cell_type": "code",
   "execution_count": null,
   "id": "a92cb61f",
   "metadata": {},
   "outputs": [],
   "source": []
  }
 ],
 "metadata": {
  "kernelspec": {
   "display_name": "Python 3 (ipykernel)",
   "language": "python",
   "name": "python3"
  },
  "language_info": {
   "codemirror_mode": {
    "name": "ipython",
    "version": 3
   },
   "file_extension": ".py",
   "mimetype": "text/x-python",
   "name": "python",
   "nbconvert_exporter": "python",
   "pygments_lexer": "ipython3",
   "version": "3.9.12"
  }
 },
 "nbformat": 4,
 "nbformat_minor": 5
}
