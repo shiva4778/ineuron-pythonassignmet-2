{
 "cells": [
  {
   "cell_type": "markdown",
   "id": "4180b513",
   "metadata": {},
   "source": [
    "1.{}"
   ]
  },
  {
   "cell_type": "markdown",
   "id": "e029bb5c",
   "metadata": {},
   "source": [
    "2.{'foo':42}"
   ]
  },
  {
   "cell_type": "markdown",
   "id": "ff337d9f",
   "metadata": {},
   "source": [
    "3.dictionary are unordered while list are ordered"
   ]
  },
  {
   "cell_type": "markdown",
   "id": "3617c918",
   "metadata": {},
   "source": [
    "4.Key error will be thrown"
   ]
  },
  {
   "cell_type": "markdown",
   "id": "4c9685ac",
   "metadata": {},
   "source": [
    "5.it is just a keys in dictionary and second one is checking whether the key cat is present in the dictionary.it will return false"
   ]
  },
  {
   "cell_type": "markdown",
   "id": "bd51f340",
   "metadata": {},
   "source": [
    "6.it is just a key in dictionary and second one is checking whether a value cat is present or not and it will return false"
   ]
  },
  {
   "cell_type": "markdown",
   "id": "cc4b1d49",
   "metadata": {},
   "source": [
    "7.spam.setdefault('color','black')"
   ]
  },
  {
   "cell_type": "markdown",
   "id": "dea147c9",
   "metadata": {},
   "source": [
    "8.pprint.pprint()"
   ]
  },
  {
   "cell_type": "code",
   "execution_count": null,
   "id": "0cfddd17",
   "metadata": {},
   "outputs": [],
   "source": []
  }
 ],
 "metadata": {
  "kernelspec": {
   "display_name": "Python 3 (ipykernel)",
   "language": "python",
   "name": "python3"
  },
  "language_info": {
   "codemirror_mode": {
    "name": "ipython",
    "version": 3
   },
   "file_extension": ".py",
   "mimetype": "text/x-python",
   "name": "python",
   "nbconvert_exporter": "python",
   "pygments_lexer": "ipython3",
   "version": "3.9.12"
  }
 },
 "nbformat": 4,
 "nbformat_minor": 5
}
