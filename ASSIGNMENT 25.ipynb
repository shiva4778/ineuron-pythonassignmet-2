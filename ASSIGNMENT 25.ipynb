{
 "cells": [
  {
   "cell_type": "markdown",
   "id": "72d7a3e0",
   "metadata": {},
   "source": [
    "# 1) . What is the difference between enclosing a list comprehension in square brackets and parentheses?"
   ]
  },
  {
   "cell_type": "markdown",
   "id": "19db6d22",
   "metadata": {},
   "source": [
    "List comprehension is stored in square bracket , while generator expression is stored in plain parantheses"
   ]
  },
  {
   "cell_type": "markdown",
   "id": "38d27ef1",
   "metadata": {},
   "source": [
    "# 2) What is the relationship between generators and iterators?"
   ]
  },
  {
   "cell_type": "markdown",
   "id": "02663651",
   "metadata": {},
   "source": [
    "Iterator is an object which contains a countable number of values and it is used to iterate over iterable object like list,tuple,set etc.\n",
    "Iterators are implemented using a class and a local variable for iterating is not required here, It follows lazy evaluation where the evaluation of expression will be on hold and stored in the memory until the item is called specifically which helps us avoid repeted evaluation.As lazy evaluation is impplemented , it requires only 1 memory location to process the value and when we are using the arge dataset then, wastage of RAM space will be reduced the need to load the entire dataset ate same time will not be there.\n",
    "We use iter() and next() keyword in an iterator\n",
    "Generators-It is another way of creating iterators in simple where it uses keyword yield insted of of returning in a defined function.It will return a sequence of data in an iterable format where we need to iterate over the sequence to use the data as they won't store the entire sequence in the memory\n"
   ]
  },
  {
   "cell_type": "markdown",
   "id": "e17b0357",
   "metadata": {},
   "source": [
    "# 3) What are the signs that a function is a generator function?"
   ]
  },
  {
   "cell_type": "markdown",
   "id": "df0a0e67",
   "metadata": {},
   "source": [
    "we use yield insted of return inside the function. It return the generator object which stores the logic of the function"
   ]
  },
  {
   "cell_type": "markdown",
   "id": "86cc65fc",
   "metadata": {},
   "source": [
    "# 4) What is the purpose of a yield statement?"
   ]
  },
  {
   "cell_type": "markdown",
   "id": "1f7a59f2",
   "metadata": {},
   "source": [
    "the yield  is used instead of return inside the function.It return the generated object which stores the logic of the function and can be called directly."
   ]
  },
  {
   "cell_type": "markdown",
   "id": "c3f700b9",
   "metadata": {},
   "source": [
    "# 5) What is the relationship between map calls and list comprehensions? Make a comparison and contrast between the two."
   ]
  },
  {
   "cell_type": "markdown",
   "id": "3d19626c",
   "metadata": {},
   "source": [
    "\n",
    "List comprehension is more concise and easier to read as compared to map.\n",
    "List comprehension allows filtering. In map, we have no such facility. For example, to print all even numbers in range of 100, we can write [n for n in range(100) if n%2 == 0]. There is no alternate for it in map\n",
    "List comprehension is faster than map when we need to evaluate expressions that are too long or complicated to express"
   ]
  },
  {
   "cell_type": "code",
   "execution_count": null,
   "id": "e3205e7e",
   "metadata": {},
   "outputs": [],
   "source": []
  }
 ],
 "metadata": {
  "kernelspec": {
   "display_name": "Python 3 (ipykernel)",
   "language": "python",
   "name": "python3"
  },
  "language_info": {
   "codemirror_mode": {
    "name": "ipython",
    "version": 3
   },
   "file_extension": ".py",
   "mimetype": "text/x-python",
   "name": "python",
   "nbconvert_exporter": "python",
   "pygments_lexer": "ipython3",
   "version": "3.9.12"
  }
 },
 "nbformat": 4,
 "nbformat_minor": 5
}
