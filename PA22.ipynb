{
 "cells": [
  {
   "cell_type": "markdown",
   "id": "ca421cb2",
   "metadata": {},
   "source": [
    "Create a function that takes three parameters where:\n",
    " x is the start of the range (inclusive).\n",
    " y is the end of the range (inclusive).\n",
    " n is the divisor to be checked against."
   ]
  },
  {
   "cell_type": "markdown",
   "id": "04a5610f",
   "metadata": {},
   "source": []
  },
  {
   "cell_type": "code",
   "execution_count": 3,
   "id": "86fd1eba",
   "metadata": {},
   "outputs": [
    {
     "name": "stdout",
     "output_type": "stream",
     "text": [
      "[3, 6, 9]\n"
     ]
    }
   ],
   "source": [
    "def parameter(x,y,n):\n",
    "    k=[]\n",
    "    for i in range(x,y):\n",
    "        if i%n==0:\n",
    "            k.append(i)\n",
    "    return k\n",
    "a=parameter(1,10,3)\n",
    "print(a)"
   ]
  },
  {
   "cell_type": "markdown",
   "id": "a814fb49",
   "metadata": {},
   "source": [
    "# Create a function that takes in two lists and returns True if the second list follows the first list by one element, and False otherwise. In other words, determine if the second list is the first list shifted to the right by"
   ]
  },
  {
   "cell_type": "code",
   "execution_count": 7,
   "id": "d6ca0ec3",
   "metadata": {},
   "outputs": [
    {
     "name": "stdout",
     "output_type": "stream",
     "text": [
      "False\n"
     ]
    }
   ],
   "source": [
    "def inp(list1,list2):\n",
    "    if list1[0]==list2[1] or list1[1]==list2[0]:\n",
    "        return True\n",
    "    else:\n",
    "        return False\n",
    "a=inp([0,1,2,3],[5,2,3,4])\n",
    "print(a)"
   ]
  },
  {
   "cell_type": "markdown",
   "id": "c75cddf5",
   "metadata": {},
   "source": [
    "# A group of friends have decided to start a secret society. The name will be the first letter of each of their names, sorted in alphabetical order."
   ]
  },
  {
   "cell_type": "code",
   "execution_count": 15,
   "id": "51560358",
   "metadata": {},
   "outputs": [
    {
     "name": "stdout",
     "output_type": "stream",
     "text": [
      "dms\n"
     ]
    }
   ],
   "source": [
    "def r(list1):\n",
    "    list1.sort()\n",
    "    k=''\n",
    "    for i in a:\n",
    "        k+=i[0]\n",
    "    return k\n",
    "a=r(['shivansu','diksha','shivansi'])\n",
    "print(a)"
   ]
  },
  {
   "cell_type": "markdown",
   "id": "3b860ee4",
   "metadata": {},
   "source": [
    "# An isogram is a word that has no duplicate letters. Create a function that takes a string and returns either True or False depending on whether or not it&#39;s an &quot;isogram&quot;."
   ]
  },
  {
   "cell_type": "code",
   "execution_count": 49,
   "id": "46b5cdd3",
   "metadata": {},
   "outputs": [
    {
     "name": "stdout",
     "output_type": "stream",
     "text": [
      "False\n"
     ]
    }
   ],
   "source": [
    "def isogram(string1):\n",
    "    k=list(string1)\n",
    "    for i in k:\n",
    "        d=i.swapcase()\n",
    "        if k.count(i)+k.count(d)>1:\n",
    "            return False\n",
    "        else:\n",
    "            return True\n",
    "a=isogram('Consecutive')\n",
    "print(a)"
   ]
  },
  {
   "cell_type": "markdown",
   "id": "8913f617",
   "metadata": {},
   "source": [
    "# Create a function that takes a string and returns True or False, depending on whether the characters are in order or not."
   ]
  },
  {
   "cell_type": "code",
   "execution_count": 54,
   "id": "75ad7ad4",
   "metadata": {},
   "outputs": [
    {
     "name": "stdout",
     "output_type": "stream",
     "text": [
      "True\n"
     ]
    }
   ],
   "source": [
    "def se(string1):\n",
    "    string2=sorted(list(string1))\n",
    "    k=''\n",
    "    for i in string2:\n",
    "        k+=i\n",
    "    if string1==k:\n",
    "        return True\n",
    "    else:\n",
    "        return False\n",
    "a=se('xyzz')\n",
    "print(a)\n",
    "        "
   ]
  },
  {
   "cell_type": "code",
   "execution_count": null,
   "id": "c99e3628",
   "metadata": {},
   "outputs": [],
   "source": []
  }
 ],
 "metadata": {
  "kernelspec": {
   "display_name": "Python 3 (ipykernel)",
   "language": "python",
   "name": "python3"
  },
  "language_info": {
   "codemirror_mode": {
    "name": "ipython",
    "version": 3
   },
   "file_extension": ".py",
   "mimetype": "text/x-python",
   "name": "python",
   "nbconvert_exporter": "python",
   "pygments_lexer": "ipython3",
   "version": "3.9.12"
  }
 },
 "nbformat": 4,
 "nbformat_minor": 5
}
