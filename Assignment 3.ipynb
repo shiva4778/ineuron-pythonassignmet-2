{
 "cells": [
  {
   "cell_type": "markdown",
   "id": "80afef44",
   "metadata": {},
   "source": [
    "1. Because we do not have to write the same code again and again ,if we need the code  we can simply call the function.."
   ]
  },
  {
   "cell_type": "markdown",
   "id": "dd69b4e5",
   "metadata": {},
   "source": [
    "2.When it is called"
   ]
  },
  {
   "cell_type": "markdown",
   "id": "12889935",
   "metadata": {},
   "source": [
    "3.def statement creates a function."
   ]
  },
  {
   "cell_type": "markdown",
   "id": "374a3965",
   "metadata": {},
   "source": [
    "4.Function-The code whch is written using the def keyword and the statement are indented inside it,these are called functions.\n",
    "Function call-Whatever the function we have written using the def keyword if we need to use we use to call the function by writin the function nme and passing the argument to it."
   ]
  },
  {
   "cell_type": "markdown",
   "id": "53eb2fcf",
   "metadata": {},
   "source": [
    "5.There is only 1 local and global scope"
   ]
  },
  {
   "cell_type": "markdown",
   "id": "a3fafe9e",
   "metadata": {},
   "source": [
    "6.That variable gets deleted"
   ]
  },
  {
   "cell_type": "markdown",
   "id": "2f23acc8",
   "metadata": {},
   "source": [
    "7.Return value return the computed value inside the function.No it is not possible it will give an error.."
   ]
  },
  {
   "cell_type": "markdown",
   "id": "18aee1b6",
   "metadata": {},
   "source": [
    "8. It will return none type"
   ]
  },
  {
   "cell_type": "markdown",
   "id": "df014aa5",
   "metadata": {},
   "source": [
    "9.we will use global(a),where a is the variable inside the function"
   ]
  },
  {
   "cell_type": "markdown",
   "id": "20241e26",
   "metadata": {},
   "source": [
    "10.None type"
   ]
  },
  {
   "cell_type": "markdown",
   "id": "c254df57",
   "metadata": {},
   "source": [
    "11.its import a module name areallyourpetsnamederic in python"
   ]
  },
  {
   "cell_type": "markdown",
   "id": "7bff791d",
   "metadata": {},
   "source": [
    "12.spam.bacon()"
   ]
  },
  {
   "cell_type": "markdown",
   "id": "d48843d0",
   "metadata": {},
   "source": [
    "13.when an error is encountered we will pass the control to except block which will show the error message.."
   ]
  },
  {
   "cell_type": "markdown",
   "id": "53ebbf0f",
   "metadata": {},
   "source": [
    "14.The try clause helps to check the block of the code,and when an error is encountered it is passed to except block which will show the error message.."
   ]
  },
  {
   "cell_type": "code",
   "execution_count": null,
   "id": "ad26d7fd",
   "metadata": {},
   "outputs": [],
   "source": []
  }
 ],
 "metadata": {
  "kernelspec": {
   "display_name": "Python 3 (ipykernel)",
   "language": "python",
   "name": "python3"
  },
  "language_info": {
   "codemirror_mode": {
    "name": "ipython",
    "version": 3
   },
   "file_extension": ".py",
   "mimetype": "text/x-python",
   "name": "python",
   "nbconvert_exporter": "python",
   "pygments_lexer": "ipython3",
   "version": "3.9.12"
  }
 },
 "nbformat": 4,
 "nbformat_minor": 5
}
