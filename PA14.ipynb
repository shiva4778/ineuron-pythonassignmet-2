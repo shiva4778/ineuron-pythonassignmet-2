{
 "cells": [
  {
   "cell_type": "markdown",
   "id": "ff23db58",
   "metadata": {},
   "source": [
    "# Define a class with a generator which can iterate the numbers, which are divisible by 7, between a given range 0 and n."
   ]
  },
  {
   "cell_type": "code",
   "execution_count": 20,
   "id": "d01a89e2",
   "metadata": {},
   "outputs": [],
   "source": [
    "class generator:\n",
    "    def __init__(self,n):\n",
    "        self.n=n\n",
    "    def x(self):\n",
    "        for i in range(self.n):\n",
    "            if i%7==0:\n",
    "                yield i\n",
    "                "
   ]
  },
  {
   "cell_type": "code",
   "execution_count": 21,
   "id": "6823b6bb",
   "metadata": {},
   "outputs": [],
   "source": [
    "a=generator(100)"
   ]
  },
  {
   "cell_type": "code",
   "execution_count": 25,
   "id": "5bf9e7a1",
   "metadata": {},
   "outputs": [
    {
     "name": "stdout",
     "output_type": "stream",
     "text": [
      "0\n",
      "7\n",
      "14\n",
      "21\n",
      "28\n",
      "35\n",
      "42\n",
      "49\n",
      "56\n",
      "63\n",
      "70\n",
      "77\n",
      "84\n",
      "91\n",
      "98\n"
     ]
    }
   ],
   "source": [
    "for i in a.x():\n",
    "    print(i)"
   ]
  },
  {
   "cell_type": "markdown",
   "id": "039145ca",
   "metadata": {},
   "source": [
    " # Write a program to compute the frequency of the words from the input. The output should output after sorting the key alphanumerically."
   ]
  },
  {
   "cell_type": "code",
   "execution_count": 33,
   "id": "92bdca36",
   "metadata": {},
   "outputs": [
    {
     "name": "stdout",
     "output_type": "stream",
     "text": [
      "enter the sentence: new to python or choosing between python 2 and python 3\n",
      "new:  1\n",
      "to:  1\n",
      "python:  3\n",
      "or:  1\n",
      "choosing:  1\n",
      "between:  1\n",
      "2:  1\n",
      "and:  1\n",
      "3:  1\n"
     ]
    }
   ],
   "source": [
    "word=input('enter the sentence: ')\n",
    "l1=word.split(sep=' ')\n",
    "d={}\n",
    "for i in l1:\n",
    "    c=l1.count(i)\n",
    "    if i not in d:\n",
    "        d[i]=c\n",
    "for i in d:\n",
    "    print(f'{i}: ',d[i])"
   ]
  },
  {
   "cell_type": "markdown",
   "id": "6faa3966",
   "metadata": {},
   "source": [
    "# Define a class Person and its two child classes: Male and Female. All classes have a method &quot;getGender&quot; which can print &quot;Male&quot; for Male class and &quot;Female&quot; for Female class."
   ]
  },
  {
   "cell_type": "code",
   "execution_count": 40,
   "id": "5b41972c",
   "metadata": {},
   "outputs": [],
   "source": [
    "class parents:\n",
    "    def __init__(self,gender):\n",
    "        self.gender=gender\n",
    "    def getGender(self):\n",
    "        if self.gender=='M':\n",
    "            return 'the person is male'\n",
    "        else:\n",
    "            return 'the person is female'\n",
    "class male(parents):\n",
    "    def getGender(self):\n",
    "        return 'the person s male'\n",
    "class female(parents):\n",
    "    def getGender(self):\n",
    "        \n",
    "        if self.gender=='F':\n",
    "            return 'she is a women'\n",
    "            "
   ]
  },
  {
   "cell_type": "code",
   "execution_count": 41,
   "id": "537b424f",
   "metadata": {},
   "outputs": [],
   "source": [
    "a=male('M')"
   ]
  },
  {
   "cell_type": "code",
   "execution_count": 42,
   "id": "70e5ae34",
   "metadata": {},
   "outputs": [
    {
     "data": {
      "text/plain": [
       "'the person s male'"
      ]
     },
     "execution_count": 42,
     "metadata": {},
     "output_type": "execute_result"
    }
   ],
   "source": [
    "a.getGender()"
   ]
  },
  {
   "cell_type": "markdown",
   "id": "440dd99a",
   "metadata": {},
   "source": [
    "# Please write a program to generate all sentences where subject is in [&quot;I&quot;, &quot;You&quot;] and verb is in [&quot;Play&quot;, &quot;Love&quot;] and the object is in [&quot;Hockey&quot;,&quot;Football&quot;]."
   ]
  },
  {
   "cell_type": "code",
   "execution_count": 43,
   "id": "89d2779c",
   "metadata": {},
   "outputs": [],
   "source": [
    "subject=[\"I\", \"You\"] \n",
    "verb=[\"Play\", \"Love\"]\n",
    "object=[\"Hockey\",\"Football\"]"
   ]
  },
  {
   "cell_type": "code",
   "execution_count": 46,
   "id": "f63a5c6b",
   "metadata": {},
   "outputs": [
    {
     "name": "stdout",
     "output_type": "stream",
     "text": [
      "I  Play Hockey\n",
      "I  Play Football\n",
      "I  Love Hockey\n",
      "I  Love Football\n",
      "You  Play Hockey\n",
      "You  Play Football\n",
      "You  Love Hockey\n",
      "You  Love Football\n"
     ]
    }
   ],
   "source": [
    "for i in subject:\n",
    "    for j in verb:\n",
    "        for k in object:\n",
    "            print(i+' '+' '+j+' '+k)"
   ]
  },
  {
   "cell_type": "markdown",
   "id": "eaf7077b",
   "metadata": {},
   "source": [
    "# Please write a program to compress and decompress the string &quot;hello world!hello world!hello world!hello world!&quot;."
   ]
  },
  {
   "cell_type": "code",
   "execution_count": 52,
   "id": "12ebdea9",
   "metadata": {},
   "outputs": [
    {
     "name": "stdout",
     "output_type": "stream",
     "text": [
      "b'hello world!hello world!hello world!hello world!'\n",
      "b'\\x1f\\x8b\\x08\\x009\\xf4Tc\\x02\\xff\\xcbH\\xcd\\xc9\\xc9W(\\xcf/\\xcaIQ\\xcc \\x82\\r\\x00\\xd3\\xe6\\xcf\\xae0\\x00\\x00\\x00'\n",
      "b'hello world!hello world!hello world!hello world!'\n"
     ]
    }
   ],
   "source": [
    "import gzip\n",
    "s=b\"hello world!hello world!hello world!hello world!\"\n",
    "print(s)\n",
    "k=gzip.compress(s)\n",
    "print(k)\n",
    "w=gzip.decompress(k)\n",
    "print(w)"
   ]
  },
  {
   "cell_type": "markdown",
   "id": "4a84ad4a",
   "metadata": {},
   "source": [
    " # Please write a binary search function which searches an item in a sorted list. The function should return the index of element to be searched in the list."
   ]
  },
  {
   "cell_type": "code",
   "execution_count": 53,
   "id": "39cd6303",
   "metadata": {},
   "outputs": [
    {
     "name": "stdout",
     "output_type": "stream",
     "text": [
      "7\n",
      "Input Element not in the list\n"
     ]
    }
   ],
   "source": [
    "sorted_list = [1,2,3,4,5,6,7,8,9,10]\n",
    "def binary_search(in_list,in_num):\n",
    "    low = 0\n",
    "    high = len(in_list)-1\n",
    "    while low <= high:\n",
    "        mid = high+low//2\n",
    "        if in_list[mid] < in_num:\n",
    "            low = mid+1\n",
    "        elif in_list[mid] > in_num:\n",
    "            high = mid-1\n",
    "        else:\n",
    "            return mid\n",
    "    else:\n",
    "        return 'Input Element not in the list'\n",
    "    \n",
    "print(binary_search(sorted_list,8))\n",
    "print(binary_search(sorted_list,100))"
   ]
  },
  {
   "cell_type": "code",
   "execution_count": null,
   "id": "1d9d9981",
   "metadata": {},
   "outputs": [],
   "source": []
  }
 ],
 "metadata": {
  "kernelspec": {
   "display_name": "Python 3 (ipykernel)",
   "language": "python",
   "name": "python3"
  },
  "language_info": {
   "codemirror_mode": {
    "name": "ipython",
    "version": 3
   },
   "file_extension": ".py",
   "mimetype": "text/x-python",
   "name": "python",
   "nbconvert_exporter": "python",
   "pygments_lexer": "ipython3",
   "version": "3.9.12"
  }
 },
 "nbformat": 4,
 "nbformat_minor": 5
}
