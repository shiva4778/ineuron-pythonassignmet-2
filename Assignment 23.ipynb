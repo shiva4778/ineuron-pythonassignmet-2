{
 "cells": [
  {
   "cell_type": "markdown",
   "id": "35b4290f",
   "metadata": {},
   "source": [
    "# i."
   ]
  },
  {
   "cell_type": "markdown",
   "id": "8f9fbf72",
   "metadata": {},
   "source": [
    "1,2,6. Because default value of b is 6 if we are not passing the value of b or c as argument then default value will be assigned.."
   ]
  },
  {
   "cell_type": "markdown",
   "id": "3c84bd02",
   "metadata": {},
   "source": [
    "# ii."
   ]
  },
  {
   "cell_type": "markdown",
   "id": "4f11e601",
   "metadata": {},
   "source": [
    "1,2,3.Same reason as above"
   ]
  },
  {
   "cell_type": "markdown",
   "id": "c98c8dee",
   "metadata": {},
   "source": [
    "# iii."
   ]
  },
  {
   "cell_type": "markdown",
   "id": "15c66962",
   "metadata": {},
   "source": [
    "a=1\n",
    "pargs=(2,3)\n",
    "Because when we use single star before the varible defined  inside the function then we can pass as many value s argument and it will store that value in the form of tuple"
   ]
  },
  {
   "cell_type": "markdown",
   "id": "57a41bfd",
   "metadata": {},
   "source": [
    "# iv."
   ]
  },
  {
   "cell_type": "markdown",
   "id": "5f0b0fec",
   "metadata": {},
   "source": [
    "1,{'c':3,'b':2}.If we use 2 star before the keyword argument then we can pass as many keyword as we want and output will be dictionary."
   ]
  },
  {
   "cell_type": "markdown",
   "id": "94860109",
   "metadata": {},
   "source": [
    "# v."
   ]
  },
  {
   "cell_type": "markdown",
   "id": "5d56d39a",
   "metadata": {},
   "source": [
    "1,5,6.Same as above"
   ]
  },
  {
   "cell_type": "markdown",
   "id": "1d63a070",
   "metadata": {},
   "source": [
    "# vi."
   ]
  },
  {
   "cell_type": "code",
   "execution_count": 25,
   "id": "ac07de0b",
   "metadata": {},
   "outputs": [],
   "source": [
    "def func(a, b, c): a = 2; b[0] = 'x';c['a']='y'"
   ]
  },
  {
   "cell_type": "code",
   "execution_count": 36,
   "id": "41d108d7",
   "metadata": {},
   "outputs": [
    {
     "data": {
      "text/plain": [
       "(1, ['x'], {'a': 'y'})"
      ]
     },
     "execution_count": 36,
     "metadata": {},
     "output_type": "execute_result"
    }
   ],
   "source": [
    "l=1\n",
    "m=[1]\n",
    "n={'a':0}\n",
    "func(l,m,n)\n",
    "l,m,n"
   ]
  },
  {
   "cell_type": "markdown",
   "id": "ede3a639",
   "metadata": {},
   "source": [
    "Eventhough Python gives importance to indentation. its provides a facility to declare an entire function in one single line. where statements in a function body are sepereated by ;\n",
    "When l,m,n are provided as inputs to the function. its modifies the values of l,m,n and sets the value of l=2 ,m=['x'] and n={'a':'y'}"
   ]
  },
  {
   "cell_type": "code",
   "execution_count": null,
   "id": "cbe79eee",
   "metadata": {},
   "outputs": [],
   "source": []
  }
 ],
 "metadata": {
  "kernelspec": {
   "display_name": "Python 3 (ipykernel)",
   "language": "python",
   "name": "python3"
  },
  "language_info": {
   "codemirror_mode": {
    "name": "ipython",
    "version": 3
   },
   "file_extension": ".py",
   "mimetype": "text/x-python",
   "name": "python",
   "nbconvert_exporter": "python",
   "pygments_lexer": "ipython3",
   "version": "3.9.12"
  }
 },
 "nbformat": 4,
 "nbformat_minor": 5
}
