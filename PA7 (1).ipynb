{
 "cells": [
  {
   "cell_type": "markdown",
   "id": "cc103a53",
   "metadata": {},
   "source": [
    "# 1. Write a Python Program to find sum of array?"
   ]
  },
  {
   "cell_type": "code",
   "execution_count": 2,
   "id": "3948dbbe",
   "metadata": {},
   "outputs": [
    {
     "name": "stdout",
     "output_type": "stream",
     "text": [
      "the sum of array [0 1 2 3 4 5 6 7 8 9] & [20 22 24 26 28 30 32 34 36 38] is [20 23 26 29 32 35 38 41 44 47]\n"
     ]
    }
   ],
   "source": [
    "import numpy as np\n",
    "a=np.arange(10)\n",
    "b=np.arange(20,40,2)\n",
    "print(f'the sum of array {a} & {b} is {a+b}')"
   ]
  },
  {
   "cell_type": "markdown",
   "id": "3aeb8f6e",
   "metadata": {},
   "source": [
    "# 2. Write a Python Program to find largest element in an array?"
   ]
  },
  {
   "cell_type": "code",
   "execution_count": 3,
   "id": "c06428b0",
   "metadata": {},
   "outputs": [
    {
     "name": "stdout",
     "output_type": "stream",
     "text": [
      "97.5\n"
     ]
    }
   ],
   "source": [
    "def largest(array):\n",
    "    return max(array)\n",
    "a=largest(np.arange(10,100,3.5))\n",
    "print(a)"
   ]
  },
  {
   "cell_type": "markdown",
   "id": "966b51eb",
   "metadata": {},
   "source": [
    "# 3. Write a Python Program for array rotation?"
   ]
  },
  {
   "cell_type": "code",
   "execution_count": 4,
   "id": "b15b7b3e",
   "metadata": {},
   "outputs": [],
   "source": [
    "class rotation:\n",
    "    def __init__(self,array):\n",
    "        self.array=array\n",
    "    def r(self):\n",
    "        return self.array[::-1]"
   ]
  },
  {
   "cell_type": "code",
   "execution_count": 5,
   "id": "db7cdcd3",
   "metadata": {},
   "outputs": [
    {
     "data": {
      "text/plain": [
       "array([9, 8, 7, 6, 5, 4, 3, 2, 1, 0])"
      ]
     },
     "execution_count": 5,
     "metadata": {},
     "output_type": "execute_result"
    }
   ],
   "source": [
    "a=rotation(np.arange(10))\n",
    "a.r()"
   ]
  },
  {
   "cell_type": "markdown",
   "id": "641656e6",
   "metadata": {},
   "source": [
    "# 4. Write a Python Program to Split the array and add the first part to the end?"
   ]
  },
  {
   "cell_type": "code",
   "execution_count": 45,
   "id": "50a41589",
   "metadata": {},
   "outputs": [
    {
     "name": "stdout",
     "output_type": "stream",
     "text": [
      "[13, 16, 19, 22, 25, 28, 10]\n"
     ]
    }
   ],
   "source": [
    "a=np.arange(10,30,3)\n",
    "s=[]\n",
    "for i in range(1,len(a)):\n",
    "    if i!=0:\n",
    "        s.append(a[i])\n",
    "(s.append(a[0]))\n",
    "print(s)\n",
    "\n",
    "               \n",
    "               \n"
   ]
  },
  {
   "cell_type": "markdown",
   "id": "adb2c14c",
   "metadata": {},
   "source": [
    "# 5. Write a Python Program to check if given array is Monotonic?"
   ]
  },
  {
   "cell_type": "code",
   "execution_count": 83,
   "id": "288f8d7a",
   "metadata": {},
   "outputs": [
    {
     "name": "stdout",
     "output_type": "stream",
     "text": [
      "it is not monotonic\n"
     ]
    }
   ],
   "source": [
    "def ismonotonic(a):\n",
    "    s=bool(1)\n",
    "    t=bool(1)\n",
    "    \n",
    "    for i in range(len(a)-1):\n",
    "        if a[i]<a[i+1]:\n",
    "            s=bool(1)\n",
    "            \n",
    "        else:\n",
    "            s=bool(0)\n",
    "            break\n",
    "    for i in range(len(a)-1):\n",
    "        if a[i]>a[i+1]:\n",
    "            t=bool(1)\n",
    "        else:\n",
    "            t=bool(0)\n",
    "            break\n",
    "    return s or t\n",
    "a=np.array([13,12,11,15])\n",
    "er=ismonotonic(a)\n",
    "if er==True:\n",
    "    print('it is monotonic')\n",
    "else:\n",
    "    print('it is not monotonic')\n"
   ]
  },
  {
   "cell_type": "code",
   "execution_count": null,
   "id": "96290f60",
   "metadata": {},
   "outputs": [],
   "source": []
  }
 ],
 "metadata": {
  "kernelspec": {
   "display_name": "Python 3 (ipykernel)",
   "language": "python",
   "name": "python3"
  },
  "language_info": {
   "codemirror_mode": {
    "name": "ipython",
    "version": 3
   },
   "file_extension": ".py",
   "mimetype": "text/x-python",
   "name": "python",
   "nbconvert_exporter": "python",
   "pygments_lexer": "ipython3",
   "version": "3.9.12"
  }
 },
 "nbformat": 4,
 "nbformat_minor": 5
}
