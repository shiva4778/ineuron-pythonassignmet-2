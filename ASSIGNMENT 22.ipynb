{
 "cells": [
  {
   "cell_type": "markdown",
   "id": "6883ae78",
   "metadata": {},
   "source": [
    "# i."
   ]
  },
  {
   "cell_type": "markdown",
   "id": "6fd3c287",
   "metadata": {},
   "source": [
    "ineuron as x='ineuron'.When we call the function print will be executed."
   ]
  },
  {
   "cell_type": "markdown",
   "id": "6d13286e",
   "metadata": {},
   "source": [
    "# ii."
   ]
  },
  {
   "cell_type": "markdown",
   "id": "91ef50cb",
   "metadata": {},
   "source": [
    "ineuron. Because when the function is called a local variable is created which is valid inside function only ,as the control comes out of the function variable will be deleted"
   ]
  },
  {
   "cell_type": "markdown",
   "id": "b21381ef",
   "metadata": {},
   "source": [
    "# iii."
   ]
  },
  {
   "cell_type": "markdown",
   "id": "3c700b58",
   "metadata": {},
   "source": [
    "NI and ineuron.Same reason as above"
   ]
  },
  {
   "cell_type": "markdown",
   "id": "86854875",
   "metadata": {},
   "source": [
    "# iv."
   ]
  },
  {
   "cell_type": "markdown",
   "id": "02a44514",
   "metadata": {},
   "source": [
    "NI,NI .Because inside the function global keyword is used which makes the local variable global .Due to this whatever changes we are making to the variable inside the function it will be valid outside the function also."
   ]
  },
  {
   "cell_type": "markdown",
   "id": "579a4cf4",
   "metadata": {},
   "source": [
    "# v."
   ]
  },
  {
   "cell_type": "markdown",
   "id": "8c37abb0",
   "metadata": {},
   "source": [
    "ineuron.Same reason as above. "
   ]
  },
  {
   "cell_type": "markdown",
   "id": "65e47c4e",
   "metadata": {},
   "source": [
    "# vi."
   ]
  },
  {
   "cell_type": "markdown",
   "id": "62f20bfe",
   "metadata": {},
   "source": [
    "The output of the code is Spam. nonlocal keyword in python is used to declare a variable as not local.Hence the statement X = \"Spam\" is modified in the global scope. hence the output of print(X) statement is Spam"
   ]
  },
  {
   "cell_type": "code",
   "execution_count": null,
   "id": "9096727e",
   "metadata": {},
   "outputs": [],
   "source": []
  }
 ],
 "metadata": {
  "kernelspec": {
   "display_name": "Python 3 (ipykernel)",
   "language": "python",
   "name": "python3"
  },
  "language_info": {
   "codemirror_mode": {
    "name": "ipython",
    "version": 3
   },
   "file_extension": ".py",
   "mimetype": "text/x-python",
   "name": "python",
   "nbconvert_exporter": "python",
   "pygments_lexer": "ipython3",
   "version": "3.9.12"
  }
 },
 "nbformat": 4,
 "nbformat_minor": 5
}
