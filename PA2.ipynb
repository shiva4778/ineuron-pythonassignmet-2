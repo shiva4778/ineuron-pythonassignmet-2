{
 "cells": [
  {
   "cell_type": "markdown",
   "id": "a64d31b3",
   "metadata": {},
   "source": [
    "# 1. Write a Python program to convert kilometers to miles?"
   ]
  },
  {
   "cell_type": "code",
   "execution_count": 3,
   "id": "6b0db20b",
   "metadata": {},
   "outputs": [],
   "source": [
    "one_mile=0.621371\n",
    "def convert(km):\n",
    "    return one_mile*km"
   ]
  },
  {
   "cell_type": "markdown",
   "id": "286fbc7c",
   "metadata": {},
   "source": [
    "# 2. Write a Python program to convert Celsius to Fahrenheit?"
   ]
  },
  {
   "cell_type": "code",
   "execution_count": 4,
   "id": "47db78d4",
   "metadata": {},
   "outputs": [],
   "source": [
    "def ctof(celsius):\n",
    "    return 1.8*celsius+32"
   ]
  },
  {
   "cell_type": "markdown",
   "id": "25847903",
   "metadata": {},
   "source": [
    "# 3. Write a Python program to display calendar?"
   ]
  },
  {
   "cell_type": "code",
   "execution_count": 14,
   "id": "fedac12b",
   "metadata": {},
   "outputs": [],
   "source": [
    "import calendar\n",
    "y=2017\n",
    "m=10"
   ]
  },
  {
   "cell_type": "code",
   "execution_count": 15,
   "id": "e762713f",
   "metadata": {},
   "outputs": [
    {
     "name": "stdout",
     "output_type": "stream",
     "text": [
      "    October 2017\n",
      "Mo Tu We Th Fr Sa Su\n",
      "                   1\n",
      " 2  3  4  5  6  7  8\n",
      " 9 10 11 12 13 14 15\n",
      "16 17 18 19 20 21 22\n",
      "23 24 25 26 27 28 29\n",
      "30 31\n",
      "\n"
     ]
    }
   ],
   "source": [
    "print(calendar.month(y,m))"
   ]
  },
  {
   "cell_type": "markdown",
   "id": "b0ef0544",
   "metadata": {},
   "source": [
    "# 4. Write a Python program to solve quadratic equation?"
   ]
  },
  {
   "cell_type": "code",
   "execution_count": 29,
   "id": "34f87053",
   "metadata": {},
   "outputs": [
    {
     "name": "stdout",
     "output_type": "stream",
     "text": [
      "enter the coefficient of x**24\n",
      "enter the coefficient of x2\n",
      "enter the c6\n",
      "-96.0 88.0\n"
     ]
    }
   ],
   "source": [
    "import math\n",
    "a=int(input('enter the coefficient of x**2'))\n",
    "b=int(input('enter the coefficient of x'))\n",
    "c=int(input('enter the c'))\n",
    "discriminant=b**2-4*a*c\n",
    "root1=((-b+(discriminant)**1/2)/2*a)\n",
    "root2=((-b-(discriminant)**1/2)/2*a)\n",
    "print(root1,root2)"
   ]
  },
  {
   "cell_type": "markdown",
   "id": "aad07d75",
   "metadata": {},
   "source": [
    "# 5. Write a Python program to swap two variables without temp variable?"
   ]
  },
  {
   "cell_type": "code",
   "execution_count": 38,
   "id": "ee7e3d86",
   "metadata": {},
   "outputs": [],
   "source": [
    "a=52\n",
    "b=6\n",
    "a,b=b,a"
   ]
  },
  {
   "cell_type": "code",
   "execution_count": 39,
   "id": "5aefe9e6",
   "metadata": {},
   "outputs": [
    {
     "name": "stdout",
     "output_type": "stream",
     "text": [
      "6 52\n"
     ]
    }
   ],
   "source": [
    "print(a,b)"
   ]
  },
  {
   "cell_type": "code",
   "execution_count": null,
   "id": "3baf01a0",
   "metadata": {},
   "outputs": [],
   "source": []
  }
 ],
 "metadata": {
  "kernelspec": {
   "display_name": "Python 3 (ipykernel)",
   "language": "python",
   "name": "python3"
  },
  "language_info": {
   "codemirror_mode": {
    "name": "ipython",
    "version": 3
   },
   "file_extension": ".py",
   "mimetype": "text/x-python",
   "name": "python",
   "nbconvert_exporter": "python",
   "pygments_lexer": "ipython3",
   "version": "3.9.12"
  }
 },
 "nbformat": 4,
 "nbformat_minor": 5
}
