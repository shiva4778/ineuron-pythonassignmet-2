{
 "cells": [
  {
   "cell_type": "markdown",
   "id": "a0df52d7",
   "metadata": {},
   "source": [
    " # Question1. Create a function that takes three arguments a, b, c and returns the sum of the numbers that are evenly divided by c from the range a, b inclusive."
   ]
  },
  {
   "cell_type": "code",
   "execution_count": 3,
   "id": "cfaf1880",
   "metadata": {},
   "outputs": [],
   "source": [
    "def evenly(a,b,c):\n",
    "    sum1=0\n",
    "    for i in range(a,b+1):\n",
    "        if i%c==0:\n",
    "            sum1+=i\n",
    "    return(sum1)"
   ]
  },
  {
   "cell_type": "code",
   "execution_count": 6,
   "id": "a5241dfa",
   "metadata": {},
   "outputs": [],
   "source": [
    "a=evenly(1,10,3)"
   ]
  },
  {
   "cell_type": "code",
   "execution_count": 7,
   "id": "cae0c1cb",
   "metadata": {},
   "outputs": [
    {
     "name": "stdout",
     "output_type": "stream",
     "text": [
      "18\n"
     ]
    }
   ],
   "source": [
    "print(a)"
   ]
  },
  {
   "cell_type": "markdown",
   "id": "8dfaccaa",
   "metadata": {},
   "source": [
    " # Question2. Create a function that returns True if a given inequality expression is correct and False otherwise."
   ]
  },
  {
   "cell_type": "code",
   "execution_count": 15,
   "id": "1f8b9cc0",
   "metadata": {},
   "outputs": [
    {
     "name": "stdout",
     "output_type": "stream",
     "text": [
      "False\n"
     ]
    }
   ],
   "source": [
    "def arrange(n):\n",
    "    return eval(n)\n",
    "a=arrange('13>44>33>1')\n",
    "print(a)"
   ]
  },
  {
   "cell_type": "markdown",
   "id": "1177c7f7",
   "metadata": {},
   "source": [
    "# Question3. Create a function that replaces all the vowels in a string with a specified character."
   ]
  },
  {
   "cell_type": "code",
   "execution_count": 25,
   "id": "abf6e6ef",
   "metadata": {},
   "outputs": [],
   "source": [
    "def replace(string,special):\n",
    "    string1=list(string)\n",
    "    k=''\n",
    "    for i in range(len(string1)):\n",
    "        if string1[i] in 'aeiou':\n",
    "            string1[i]=special\n",
    "            \n",
    "        k+=string1[i]\n",
    "    return k\n",
    "            "
   ]
  },
  {
   "cell_type": "code",
   "execution_count": 26,
   "id": "eab82092",
   "metadata": {},
   "outputs": [
    {
     "name": "stdout",
     "output_type": "stream",
     "text": [
      "th@ @@rdv@rk\n"
     ]
    }
   ],
   "source": [
    "a=replace('the aardvark','@')\n",
    "print(a)"
   ]
  },
  {
   "cell_type": "markdown",
   "id": "9838a75f",
   "metadata": {},
   "source": [
    "# Question4. Write a function that calculates the factorial of a number recursively."
   ]
  },
  {
   "cell_type": "code",
   "execution_count": 27,
   "id": "fb18e2b7",
   "metadata": {},
   "outputs": [
    {
     "name": "stdout",
     "output_type": "stream",
     "text": [
      "120\n"
     ]
    }
   ],
   "source": [
    " def fact(n):\n",
    "        if n==1:\n",
    "            return 1\n",
    "        else:\n",
    "            return n*fact(n-1)\n",
    "a=fact(5)\n",
    "print(a)"
   ]
  },
  {
   "cell_type": "markdown",
   "id": "bb1ccd1d",
   "metadata": {},
   "source": [
    "# Create a function that computes the hamming distance between two strings."
   ]
  },
  {
   "cell_type": "code",
   "execution_count": 39,
   "id": "c39e61a4",
   "metadata": {},
   "outputs": [
    {
     "name": "stdout",
     "output_type": "stream",
     "text": [
      "0\n"
     ]
    }
   ],
   "source": [
    "def distance(string1,string2):\n",
    "    k=0\n",
    "    for i in range(len(string1)):\n",
    "        if string1[i]!=string2[i]:\n",
    "            k+=1\n",
    "    return k\n",
    "a=distance('abcde','abcde')\n",
    "print(a)"
   ]
  },
  {
   "cell_type": "code",
   "execution_count": null,
   "id": "25b94132",
   "metadata": {},
   "outputs": [],
   "source": []
  }
 ],
 "metadata": {
  "kernelspec": {
   "display_name": "Python 3 (ipykernel)",
   "language": "python",
   "name": "python3"
  },
  "language_info": {
   "codemirror_mode": {
    "name": "ipython",
    "version": 3
   },
   "file_extension": ".py",
   "mimetype": "text/x-python",
   "name": "python",
   "nbconvert_exporter": "python",
   "pygments_lexer": "ipython3",
   "version": "3.9.12"
  }
 },
 "nbformat": 4,
 "nbformat_minor": 5
}
