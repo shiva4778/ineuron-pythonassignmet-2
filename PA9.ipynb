{
 "cells": [
  {
   "cell_type": "markdown",
   "id": "b4094ae9",
   "metadata": {},
   "source": [
    "# 1. Write a Python program to check if the given number is a Disarium Number?"
   ]
  },
  {
   "cell_type": "code",
   "execution_count": 19,
   "id": "042c04a1",
   "metadata": {},
   "outputs": [
    {
     "name": "stdout",
     "output_type": "stream",
     "text": [
      "enter the no you want to check whether it is a disarium or not175\n",
      "it is disarium no\n"
     ]
    }
   ],
   "source": [
    "s=0\n",
    "\n",
    "k=int(input('enter the no you want to check whether it is a disarium or not'))\n",
    "n=len(str(k))\n",
    "g=int(k)\n",
    "for i in range(len(str(g))):\n",
    "    f=g%10\n",
    "    s+=f**n\n",
    "    n=n-1\n",
    "    g=g//10\n",
    "if k==s:\n",
    "    print('it is disarium no')\n",
    "else:\n",
    "    print('it is not a disarium no')"
   ]
  },
  {
   "cell_type": "markdown",
   "id": "37f14eb4",
   "metadata": {},
   "source": [
    "# 2. Write a Python program to print all disarium numbers between 1 to 100?"
   ]
  },
  {
   "cell_type": "code",
   "execution_count": 22,
   "id": "8a81a88d",
   "metadata": {},
   "outputs": [
    {
     "name": "stdout",
     "output_type": "stream",
     "text": [
      "[1, 2, 3, 4, 5, 6, 7, 8, 9, 89]\n"
     ]
    }
   ],
   "source": [
    "l=[]\n",
    "for i in range(1,100):\n",
    "    \n",
    "    s=0\n",
    "\n",
    "    k=i\n",
    "    n=len(str(k))\n",
    "    g=int(k)\n",
    "    \n",
    "    for j in range(len(str(g))):\n",
    "        f=g%10\n",
    "        s+=f**n\n",
    "        n=n-1\n",
    "        g=g//10\n",
    "    if k==s:\n",
    "        l.append(s)\n",
    "\n",
    "print(l)"
   ]
  },
  {
   "cell_type": "markdown",
   "id": "40757b9e",
   "metadata": {},
   "source": [
    "# 3. Write a Python program to check if the given number is Happy Number?\n"
   ]
  },
  {
   "cell_type": "code",
   "execution_count": null,
   "id": "7bb2be55",
   "metadata": {},
   "outputs": [],
   "source": [
    "def checkHappyNumber():\n",
    "    in_num = input('Enter a Number: ')\n",
    "    in_num_duplicate = in_num\n",
    "    trackNumber = set()   \n",
    "    while True:\n",
    "        if in_num != '1' and str(in_num) not in trackNumber:\n",
    "            trackNumber.add(in_num)\n",
    "            sum = 0\n",
    "            for ele in range(len((in_num))):\n",
    "                sum = sum + int(in_num[ele])**2\n",
    "            in_num = str(sum)\n",
    "        elif str(in_num) in trackNumber:\n",
    "            print(f'{in_num_duplicate} is not a Happy Number')\n",
    "            break\n",
    "        else:\n",
    "            print(f'{in_num_duplicate} is a Happy Number')\n",
    "            break\n",
    "\n",
    "checkHappyNumber()\n",
    "checkHappyNumber()"
   ]
  },
  {
   "cell_type": "markdown",
   "id": "dbd53f3e",
   "metadata": {},
   "source": [
    "# 4. Write a Python program to print all happy numbers between 1 and 100?"
   ]
  },
  {
   "cell_type": "code",
   "execution_count": null,
   "id": "5321bbcc",
   "metadata": {},
   "outputs": [],
   "source": [
    "def checkHappyNumber(start=0,end=100):\n",
    "    happyNumbersList = []\n",
    "    for in_num in range(start,end+1):\n",
    "        in_num = str(in_num)\n",
    "        inum_holder = in_num\n",
    "        trackNumber = set()   \n",
    "        while True:\n",
    "            if in_num != '1' and str(in_num) not in trackNumber:\n",
    "                trackNumber.add(in_num)\n",
    "                sum = 0\n",
    "                for ele in range(len((in_num))):\n",
    "                    sum = sum + int(in_num[ele])**2\n",
    "                in_num = str(sum)\n",
    "            elif str(in_num) in trackNumber:\n",
    "                break\n",
    "            else:\n",
    "                happyNumbersList.append(int(inum_holder))\n",
    "                break\n",
    "    print(f'The Happy Numbers between {start} and {end} are {happyNumbersList}')\n",
    "    \n",
    "checkHappyNumber(0,100)\n"
   ]
  },
  {
   "cell_type": "markdown",
   "id": "20413770",
   "metadata": {},
   "source": [
    "# 5. Write a Python program to determine whether the given number is a Harshad Number?"
   ]
  },
  {
   "cell_type": "code",
   "execution_count": 34,
   "id": "5152f2e9",
   "metadata": {},
   "outputs": [
    {
     "name": "stdout",
     "output_type": "stream",
     "text": [
      "enter the no you want to check whether it is a harshad no or not23\n",
      "it is not a harshad no\n"
     ]
    }
   ],
   "source": [
    "i=int(input('enter the no you want to check whether it is a harshad no or not'))\n",
    "j=i\n",
    "l=len(str(i))\n",
    "s=0\n",
    "for k in range(l):\n",
    "    s+=j%10\n",
    "    j=j//10\n",
    "if int(i)%s==0:\n",
    "    print('it is a harshad no')\n",
    "else:\n",
    "    print('it is not a harshad no')"
   ]
  },
  {
   "cell_type": "markdown",
   "id": "badb039e",
   "metadata": {},
   "source": [
    "# 6. Write a Python program to print all pronic numbers between 1 and 100?"
   ]
  },
  {
   "cell_type": "code",
   "execution_count": 36,
   "id": "12e7294f",
   "metadata": {},
   "outputs": [
    {
     "name": "stdout",
     "output_type": "stream",
     "text": [
      "[2, 6, 12, 20, 30, 42, 56, 72, 90]\n"
     ]
    }
   ],
   "source": [
    "l=[]\n",
    "for i in range(1,100):\n",
    "    for j in range(i):\n",
    "        if j*(j+1)==i:\n",
    "            l.append(i)\n",
    "print(l)"
   ]
  }
 ],
 "metadata": {
  "kernelspec": {
   "display_name": "Python 3 (ipykernel)",
   "language": "python",
   "name": "python3"
  },
  "language_info": {
   "codemirror_mode": {
    "name": "ipython",
    "version": 3
   },
   "file_extension": ".py",
   "mimetype": "text/x-python",
   "name": "python",
   "nbconvert_exporter": "python",
   "pygments_lexer": "ipython3",
   "version": "3.9.12"
  }
 },
 "nbformat": 4,
 "nbformat_minor": 5
}
