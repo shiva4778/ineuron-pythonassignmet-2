{
 "cells": [
  {
   "cell_type": "markdown",
   "id": "89757622",
   "metadata": {},
   "source": [
    "# 1. Write a Python Program to Find the Factorial of a Number?"
   ]
  },
  {
   "cell_type": "code",
   "execution_count": 1,
   "id": "91b435c8",
   "metadata": {},
   "outputs": [
    {
     "name": "stdout",
     "output_type": "stream",
     "text": [
      "enter the no you want to find its factorial5\n",
      "120\n"
     ]
    }
   ],
   "source": [
    "a=1\n",
    "n=int(input('enter the no you want to find its factorial'))\n",
    "for i in range(1,n+1):\n",
    "    a*=i\n",
    "print(a)"
   ]
  },
  {
   "cell_type": "markdown",
   "id": "d39cb42e",
   "metadata": {},
   "source": [
    "# 2. Write a Python Program to Display the multiplication Table?"
   ]
  },
  {
   "cell_type": "code",
   "execution_count": 3,
   "id": "552e09b0",
   "metadata": {},
   "outputs": [
    {
     "name": "stdout",
     "output_type": "stream",
     "text": [
      "enter the table you want to print19\n",
      "19 * 1 = 19\n",
      "19 * 2 = 38\n",
      "19 * 3 = 57\n",
      "19 * 4 = 76\n",
      "19 * 5 = 95\n",
      "19 * 6 = 114\n",
      "19 * 7 = 133\n",
      "19 * 8 = 152\n",
      "19 * 9 = 171\n",
      "19 * 10 = 190\n"
     ]
    }
   ],
   "source": [
    "n=int(input('enter the table you want to print'))\n",
    "for i in range(1,11):\n",
    "    print(f'{n} * {i} =',n*i)"
   ]
  },
  {
   "cell_type": "markdown",
   "id": "48e919e0",
   "metadata": {},
   "source": [
    "# 3. Write a Python Program to Print the Fibonacci sequence?"
   ]
  },
  {
   "cell_type": "code",
   "execution_count": 16,
   "id": "2d1d8c46",
   "metadata": {},
   "outputs": [
    {
     "name": "stdout",
     "output_type": "stream",
     "text": [
      "enter the last no you want to find its fibonacci sequence5\n",
      "0 1 1 2 3 5 8 13 "
     ]
    }
   ],
   "source": [
    "a=0\n",
    "b=1\n",
    "c=1\n",
    "n=int(input('enter the last no you want to find its fibonacci sequence'))\n",
    "for i in range(0,n+1):\n",
    "    if i==0:\n",
    "        print(a,b,end=' ')\n",
    "        c=a+b\n",
    "        a=b\n",
    "        b=c\n",
    "    print(c,end=' ')\n",
    "    c=a+b\n",
    "    a=b\n",
    "    b=c\n",
    "    \n",
    "    "
   ]
  },
  {
   "cell_type": "markdown",
   "id": "cefb7270",
   "metadata": {},
   "source": [
    "# 4. Write a Python Program to Check Armstrong Number?"
   ]
  },
  {
   "cell_type": "code",
   "execution_count": 33,
   "id": "cf96a147",
   "metadata": {},
   "outputs": [
    {
     "name": "stdout",
     "output_type": "stream",
     "text": [
      "enter the no you want to check whether itis armstrong or not5\n",
      "it is a armstrong no\n"
     ]
    }
   ],
   "source": [
    "n=int(input('enter the no you want to check whether itis armstrong or not'))\n",
    "dividend=n\n",
    "k=0\n",
    "for i in range(len(str(n))):\n",
    "    remainder=dividend%10\n",
    "    k+=remainder**len(str(n))\n",
    "    dividend=dividend//10\n",
    "if k==n:\n",
    "    print('it is a armstrong no')\n",
    "else:\n",
    "    print('it is not a armstrong no')\n",
    "\n"
   ]
  },
  {
   "cell_type": "markdown",
   "id": "37616e4e",
   "metadata": {},
   "source": [
    "# 5. Write a Python Program to Find Armstrong Number in an Interval?"
   ]
  },
  {
   "cell_type": "code",
   "execution_count": null,
   "id": "4950eee8",
   "metadata": {},
   "outputs": [],
   "source": [
    "n=int(input('enter the range you want to find the armstrong no'))\n",
    "l=list()\n",
    "for i in range(n+1):\n",
    "    k=0\n",
    "    remainder=0\n",
    "    dividend=i\n",
    "    \n",
    "    for j in range(len(str(i))):\n",
    "        remainder=dividend%10\n",
    "        dividend=dividend//10\n",
    "        k+=remainder**len(str(i))\n",
    "        \n",
    "    if k==i:\n",
    "        l.append(k)\n",
    "print(l)"
   ]
  },
  {
   "cell_type": "markdown",
   "id": "76b2b285",
   "metadata": {},
   "source": [
    "# 6. Write a Python Program to Find the Sum of Natural Numbers?"
   ]
  },
  {
   "cell_type": "code",
   "execution_count": 34,
   "id": "2fa834cb",
   "metadata": {},
   "outputs": [
    {
     "name": "stdout",
     "output_type": "stream",
     "text": [
      "enter the last digit of the no5\n",
      "15\n"
     ]
    }
   ],
   "source": [
    "n=int(input('enter the last digit of the no'))\n",
    "sum=0\n",
    "for i in range(1,n+1):\n",
    "    sum+=i\n",
    "print(sum)"
   ]
  },
  {
   "cell_type": "code",
   "execution_count": null,
   "id": "b8934ec7",
   "metadata": {},
   "outputs": [],
   "source": []
  },
  {
   "cell_type": "code",
   "execution_count": null,
   "id": "f2f73bf6",
   "metadata": {},
   "outputs": [],
   "source": []
  }
 ],
 "metadata": {
  "kernelspec": {
   "display_name": "Python 3 (ipykernel)",
   "language": "python",
   "name": "python3"
  },
  "language_info": {
   "codemirror_mode": {
    "name": "ipython",
    "version": 3
   },
   "file_extension": ".py",
   "mimetype": "text/x-python",
   "name": "python",
   "nbconvert_exporter": "python",
   "pygments_lexer": "ipython3",
   "version": "3.9.12"
  }
 },
 "nbformat": 4,
 "nbformat_minor": 5
}
