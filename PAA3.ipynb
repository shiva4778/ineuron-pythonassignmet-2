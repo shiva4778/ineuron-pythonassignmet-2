{
 "cells": [
  {
   "cell_type": "markdown",
   "id": "470163c1",
   "metadata": {},
   "source": [
    "# 1. What is the concept of an abstract superclass?"
   ]
  },
  {
   "cell_type": "markdown",
   "id": "436e82b9",
   "metadata": {},
   "source": [
    "An abstract class is a class, but not one you can create objects from directly. Its purpose is to define how other classes should look like, i.e. what methods and properties they are expected to have."
   ]
  },
  {
   "cell_type": "markdown",
   "id": "397e11ce",
   "metadata": {},
   "source": [
    "# 2. What happens when a class statement&#39;s top level contains a basic assignment statement?"
   ]
  },
  {
   "cell_type": "markdown",
   "id": "9a8b4625",
   "metadata": {},
   "source": [
    "We can use top level  variable anywhere inside the class , generally we use to top level variable to specify the default value of something ."
   ]
  },
  {
   "cell_type": "markdown",
   "id": "be7c166d",
   "metadata": {},
   "source": [
    "# 3. Why does a class need to manually call a superclass&#39;s __init__ method?"
   ]
  },
  {
   "cell_type": "markdown",
   "id": "81e79afd",
   "metadata": {},
   "source": [
    "The main reason for always calling base class _init__ is that base class may typically create member variable and initialize them to defaults. So if you don't call base class init, none of that code would be executed and you would end up with base class that has no member variables."
   ]
  },
  {
   "cell_type": "markdown",
   "id": "9c80c2af",
   "metadata": {},
   "source": [
    "# 4. How can you augment, instead of completely replacing, an inherited method?"
   ]
  },
  {
   "cell_type": "markdown",
   "id": "3c41de41",
   "metadata": {},
   "source": [
    "A more sophisticated way to augment an inherited method involves forwarding. Message forwarding allows you to augment an inherited method in such a way that it can perform its inherited action and some new action."
   ]
  },
  {
   "cell_type": "markdown",
   "id": "fbc5f93f",
   "metadata": {},
   "source": [
    "# 5. How is the local scope of a class different from that of a function?"
   ]
  },
  {
   "cell_type": "markdown",
   "id": "9c266a23",
   "metadata": {},
   "source": [
    "Declaring a variable inside a class means its variable can be accesed by all the method inside the class , but declaring a variable inside the function in a class can be used by that function only"
   ]
  },
  {
   "cell_type": "code",
   "execution_count": null,
   "id": "b63fc563",
   "metadata": {},
   "outputs": [],
   "source": []
  }
 ],
 "metadata": {
  "kernelspec": {
   "display_name": "Python 3 (ipykernel)",
   "language": "python",
   "name": "python3"
  },
  "language_info": {
   "codemirror_mode": {
    "name": "ipython",
    "version": 3
   },
   "file_extension": ".py",
   "mimetype": "text/x-python",
   "name": "python",
   "nbconvert_exporter": "python",
   "pygments_lexer": "ipython3",
   "version": "3.9.12"
  }
 },
 "nbformat": 4,
 "nbformat_minor": 5
}
