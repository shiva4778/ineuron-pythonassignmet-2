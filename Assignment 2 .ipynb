{
 "cells": [
  {
   "cell_type": "markdown",
   "id": "ed819504",
   "metadata": {},
   "source": [
    "1.True & False.bool(0) for False and bool(1) for True"
   ]
  },
  {
   "cell_type": "markdown",
   "id": "de823b3b",
   "metadata": {},
   "source": [
    "2.AND,OR,NOT"
   ]
  },
  {
   "cell_type": "markdown",
   "id": "13e37b57",
   "metadata": {},
   "source": [
    "3. For and operator\n",
    "True and True=True\n",
    "True and False=False\n",
    "False and True=False\n",
    "False and False=False\n",
    "ii.For or Operator\n",
    "True or True=True\n",
    "True or False=True\n",
    "False or True=True\n",
    "False or False=False\n",
    "iii.For not operator\n",
    "NOT(True)=False\n",
    "NOT(FALSE)=TRUE"
   ]
  },
  {
   "cell_type": "markdown",
   "id": "c0039561",
   "metadata": {},
   "source": [
    "4.i.False\n",
    "ii.False\n",
    "iii.True\n",
    "iv.False\n",
    "v.False\n",
    "vi.True\n"
   ]
  },
  {
   "cell_type": "markdown",
   "id": "0f459267",
   "metadata": {},
   "source": [
    "5. ==,>=,<=,!=,>,<"
   ]
  },
  {
   "cell_type": "markdown",
   "id": "1d76b227",
   "metadata": {},
   "source": [
    "6.The operator for equal to is (==) and assignment operator is (=).Assignment operator is used to assign valure to a variable and (==) is an comparison operator which is used to compare 2 value.\n",
    "a=4 ,here equal to is an assignment operator\n",
    "4>=6 , here equal to is acting as assignment operator and it is going to give boolean value"
   ]
  },
  {
   "cell_type": "markdown",
   "id": "7701064e",
   "metadata": {},
   "source": [
    "7.eggs ,bacon and ham are first ,second and third block"
   ]
  },
  {
   "cell_type": "markdown",
   "id": "2aad5e20",
   "metadata": {},
   "source": [
    "8.spam=1\n",
    "if spam==1:\n",
    "    print('Hello')\n",
    "elif spam==2:\n",
    "    print('Howdy')\n",
    "else:\n",
    "    print('Greetings!')"
   ]
  },
  {
   "cell_type": "markdown",
   "id": "b905129e",
   "metadata": {},
   "source": [
    "9.Ctrl+C or F5"
   ]
  },
  {
   "cell_type": "markdown",
   "id": "4f171b99",
   "metadata": {},
   "source": [
    "10.break statement is used to terminate the complete  loop as soon as condition is fulfilled and continue statement will only terminate the current iteration go to to the loop as soon as the condition is met"
   ]
  },
  {
   "cell_type": "markdown",
   "id": "240a9c93",
   "metadata": {},
   "source": [
    "11.All these are same by dafault the iteration will be from 0 to 0 and step value will be 1"
   ]
  },
  {
   "cell_type": "markdown",
   "id": "fecae709",
   "metadata": {},
   "source": [
    "12.for i in range(1,11):\n",
    "    print(i)\n",
    "i=1\n",
    "while i<=10:\n",
    "    print(i)\n",
    "    i+=1"
   ]
  },
  {
   "cell_type": "markdown",
   "id": "898a017a",
   "metadata": {},
   "source": [
    "13.spam.bacon()"
   ]
  }
 ],
 "metadata": {
  "kernelspec": {
   "display_name": "Python 3 (ipykernel)",
   "language": "python",
   "name": "python3"
  },
  "language_info": {
   "codemirror_mode": {
    "name": "ipython",
    "version": 3
   },
   "file_extension": ".py",
   "mimetype": "text/x-python",
   "name": "python",
   "nbconvert_exporter": "python",
   "pygments_lexer": "ipython3",
   "version": "3.9.12"
  }
 },
 "nbformat": 4,
 "nbformat_minor": 5
}
