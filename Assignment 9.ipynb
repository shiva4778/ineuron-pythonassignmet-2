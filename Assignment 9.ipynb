{
 "cells": [
  {
   "cell_type": "markdown",
   "id": "c85d4360",
   "metadata": {},
   "source": [
    "# 1. To what does a relative path refer?"
   ]
  },
  {
   "cell_type": "markdown",
   "id": "1af65500",
   "metadata": {},
   "source": [
    "Relative path can be defined as directly giving the name of file .Like asd.txt.Relative path doesnot include forward slash,'/'."
   ]
  },
  {
   "cell_type": "markdown",
   "id": "e42dfa93",
   "metadata": {},
   "source": [
    "# 2. What does an absolute path start with your operating system?"
   ]
  },
  {
   "cell_type": "markdown",
   "id": "d1dc4a06",
   "metadata": {},
   "source": [
    "it starts with 'C:\\'"
   ]
  },
  {
   "cell_type": "markdown",
   "id": "cfc34355",
   "metadata": {},
   "source": [
    "# 3. What do the functions os.getcwd() and os.chdir() do?"
   ]
  },
  {
   "cell_type": "markdown",
   "id": "84ff7b25",
   "metadata": {},
   "source": [
    "os.getcwd()-> It is used to know in which directory currently we are working\n",
    "os.chdir() -> It is used to change the current working directory"
   ]
  },
  {
   "cell_type": "markdown",
   "id": "28b72c68",
   "metadata": {},
   "source": [
    "# 4. What are the . and .. folders?"
   ]
  },
  {
   "cell_type": "markdown",
   "id": "7e266f11",
   "metadata": {},
   "source": [
    ". Represents the Current Directory Whereas .. Represents the Parent Directory of the Current Directory\n",
    "For Example: if the below path is my absolute path:\n",
    "C:\\\\Users\\\\vishnu\\\\Documents\\\\iNeuron-Assignments\\\\Python Basic Assignment\n",
    "Then . represents the path C:\\\\Users\\\\vishnu\\\\Documents\\\\iNeuron-Assignments\\\\Python Basic Assignment\n",
    "Where as .. represents the path C:\\\\Users\\\\vishnu\\\\Documents\\\\iNeuron-Assignments"
   ]
  },
  {
   "cell_type": "markdown",
   "id": "547486e0",
   "metadata": {},
   "source": [
    "# 5. In C:\\bacon\\eggs\\spam.txt, which part is the dir name, and which part is the base name?"
   ]
  },
  {
   "cell_type": "markdown",
   "id": "a5393492",
   "metadata": {},
   "source": [
    "base name-> spam.txt\n",
    "dir name-> 5. In C:\\bacon\\eggs"
   ]
  },
  {
   "cell_type": "markdown",
   "id": "62b745b5",
   "metadata": {},
   "source": [
    "# 6. What are the three “mode” arguments that can be passed to the open() function?"
   ]
  },
  {
   "cell_type": "markdown",
   "id": "4eda194f",
   "metadata": {},
   "source": [
    "3 modes are read,write and append"
   ]
  },
  {
   "cell_type": "markdown",
   "id": "48ee34ee",
   "metadata": {},
   "source": [
    "# 7. What happe'ns if an existing file is opened in write mode?'"
   ]
  },
  {
   "cell_type": "markdown",
   "id": "d847e52c",
   "metadata": {},
   "source": [
    "All the information present will be deleted and new information will be added "
   ]
  },
  {
   "cell_type": "markdown",
   "id": "a690d927",
   "metadata": {},
   "source": [
    "# 8. How do you tell the difference between read() and readlines()?"
   ]
  },
  {
   "cell_type": "markdown",
   "id": "0820e040",
   "metadata": {},
   "source": [
    "read() will read whole file and return as it is written  but redlines will read the whole file and return in the form of list.."
   ]
  },
  {
   "cell_type": "markdown",
   "id": "31c3eaff",
   "metadata": {},
   "source": [
    "# 9. What data structure does a shelf value resemble?"
   ]
  },
  {
   "cell_type": "markdown",
   "id": "cfa23a29",
   "metadata": {},
   "source": [
    "A shelf value resemble a dictionary value; it has keys and values, along with keys() and values() methods that work similarly to the dictionary methods of the same names."
   ]
  }
 ],
 "metadata": {
  "kernelspec": {
   "display_name": "Python 3 (ipykernel)",
   "language": "python",
   "name": "python3"
  },
  "language_info": {
   "codemirror_mode": {
    "name": "ipython",
    "version": 3
   },
   "file_extension": ".py",
   "mimetype": "text/x-python",
   "name": "python",
   "nbconvert_exporter": "python",
   "pygments_lexer": "ipython3",
   "version": "3.9.12"
  }
 },
 "nbformat": 4,
 "nbformat_minor": 5
}
