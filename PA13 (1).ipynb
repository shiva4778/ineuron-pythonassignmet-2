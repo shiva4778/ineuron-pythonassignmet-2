{
 "cells": [
  {
   "cell_type": "markdown",
   "id": "186a278f",
   "metadata": {},
   "source": [
    "# 1.........."
   ]
  },
  {
   "cell_type": "code",
   "execution_count": 83,
   "id": "ec36400c",
   "metadata": {},
   "outputs": [
    {
     "name": "stdout",
     "output_type": "stream",
     "text": [
      "enter the comma separated value: 100,150,180\n",
      "output: 18,22,24\n"
     ]
    }
   ],
   "source": [
    "import math\n",
    "C=50\n",
    "H=30\n",
    "f=[]\n",
    "inter=eval(input('enter the comma separated value: '))\n",
    "for i in inter:\n",
    "    Q=str(int(math.sqrt((2*C*i)/H)))\n",
    "    f.append(Q)\n",
    "print('output: {}'.format(','.join(f)))\n",
    "    "
   ]
  },
  {
   "cell_type": "markdown",
   "id": "54947057",
   "metadata": {},
   "source": [
    "# 2...."
   ]
  },
  {
   "cell_type": "code",
   "execution_count": 107,
   "id": "05613756",
   "metadata": {},
   "outputs": [],
   "source": [
    "a=[[i*j for i in range(5) ] for j in range(3)]"
   ]
  },
  {
   "cell_type": "code",
   "execution_count": 108,
   "id": "4e7c50ce",
   "metadata": {},
   "outputs": [
    {
     "data": {
      "text/plain": [
       "[[0, 0, 0, 0, 0], [0, 1, 2, 3, 4], [0, 2, 4, 6, 8]]"
      ]
     },
     "execution_count": 108,
     "metadata": {},
     "output_type": "execute_result"
    }
   ],
   "source": [
    "a"
   ]
  },
  {
   "cell_type": "markdown",
   "id": "03859381",
   "metadata": {},
   "source": [
    "# Question 3: Write a program that accepts a comma separated sequence of words as input and prints the words in a comma-separated sequence after sorting them alphabetically."
   ]
  },
  {
   "cell_type": "code",
   "execution_count": 138,
   "id": "2ae5fc6b",
   "metadata": {},
   "outputs": [
    {
     "name": "stdout",
     "output_type": "stream",
     "text": [
      "enter the sentence: without\n",
      "enter 0 to exit 1 to continue: 1\n",
      "enter the sentence: hello\n",
      "enter 0 to exit 1 to continue: 1\n",
      "enter the sentence: bag\n",
      "enter 0 to exit 1 to continue: 1\n",
      "enter the sentence: word\n",
      "enter 0 to exit 1 to continue: 0\n",
      "bag,hello,without,word\n"
     ]
    }
   ],
   "source": [
    "l=[]\n",
    "er=bool(1)\n",
    "while er:\n",
    "    \n",
    "    a=(input('enter the sentence: '))\n",
    "    l.append(a)\n",
    "    er=eval(input('enter 0 to exit 1 to continue: '))\n",
    "l.sort()\n",
    "for i in l:\n",
    "    if l.index(i)<len(l)-1:\n",
    "        print(i,end=',')\n",
    "    else:\n",
    "        print(i)"
   ]
  },
  {
   "cell_type": "markdown",
   "id": "02da2179",
   "metadata": {},
   "source": [
    "# Write a program that accepts a sequence of whitespace separated words as input and prints the words after removing all duplicate words and sorting them alphanumerically."
   ]
  },
  {
   "cell_type": "code",
   "execution_count": 148,
   "id": "0cbdc4a5",
   "metadata": {},
   "outputs": [
    {
     "name": "stdout",
     "output_type": "stream",
     "text": [
      "enter the sentence: hello world and practice makes perfect and hello world again\n",
      "again,and  hello  makes,perfect,practice,world  "
     ]
    }
   ],
   "source": [
    "l=[]\n",
    "a=(input('enter the sentence: '))\n",
    "s=a.split(sep=' ')\n",
    "s.sort()\n",
    "for i in s:\n",
    "    if s.count(i)>1:\n",
    "        print(i,end=' ')\n",
    "        s.remove(i)\n",
    "        print(end=' ')\n",
    "    else:\n",
    "        print(i,end=',')"
   ]
  },
  {
   "cell_type": "markdown",
   "id": "01102d99",
   "metadata": {},
   "source": [
    "# Write a program that accepts a sentence and calculate the number of letters and digits."
   ]
  },
  {
   "cell_type": "code",
   "execution_count": 149,
   "id": "9386d968",
   "metadata": {},
   "outputs": [
    {
     "name": "stdout",
     "output_type": "stream",
     "text": [
      "enter the wordhello world! 123\n",
      "10\n"
     ]
    }
   ],
   "source": [
    "j=input('enter the word')\n",
    "k=0\n",
    "for i in j:\n",
    "    if i.isalpha():\n",
    "        k+=1\n",
    "print(k)"
   ]
  },
  {
   "cell_type": "markdown",
   "id": "23fcf169",
   "metadata": {},
   "source": [
    "# A website requires the users to input username and password to register. Write a program to check the validity of password input by users."
   ]
  },
  {
   "cell_type": "code",
   "execution_count": 166,
   "id": "43648f54",
   "metadata": {},
   "outputs": [
    {
     "name": "stdout",
     "output_type": "stream",
     "text": [
      "Enter the Input String: bhj#982sdA\n",
      "bhj#982sdA\n"
     ]
    }
   ],
   "source": [
    "def checkPassword():\n",
    "    in_string = input(\"Enter the Input String: \")\n",
    "    small_list = \"abcdefghijklmnopqrstuvwxyz\"\n",
    "    cap_list = \"ABCDEFGHIJKLMNOPQRSTUVWXYZ\"\n",
    "    num_list = \"0123456789\"\n",
    "    special_list = \"$#@\"\n",
    "    for ele in in_string.split(\",\"):\n",
    "        if len(ele) <= 12 and len(ele) >=6 :\n",
    "            if any(i.isupper() for i in ele):\n",
    "                if any(i.islower() for i in ele):\n",
    "                    if any(i for i in ele if i in special_list):\n",
    "                        print(ele)\n",
    "                               \n",
    "checkPassword() "
   ]
  },
  {
   "cell_type": "code",
   "execution_count": null,
   "id": "bf3095b2",
   "metadata": {},
   "outputs": [],
   "source": []
  }
 ],
 "metadata": {
  "kernelspec": {
   "display_name": "Python 3 (ipykernel)",
   "language": "python",
   "name": "python3"
  },
  "language_info": {
   "codemirror_mode": {
    "name": "ipython",
    "version": 3
   },
   "file_extension": ".py",
   "mimetype": "text/x-python",
   "name": "python",
   "nbconvert_exporter": "python",
   "pygments_lexer": "ipython3",
   "version": "3.9.12"
  }
 },
 "nbformat": 4,
 "nbformat_minor": 5
}
