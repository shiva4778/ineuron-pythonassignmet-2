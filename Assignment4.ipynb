{
 "cells": [
  {
   "cell_type": "markdown",
   "id": "30097471",
   "metadata": {},
   "source": [
    "1.List(Empty list)"
   ]
  },
  {
   "cell_type": "markdown",
   "id": "0e99f82d",
   "metadata": {},
   "source": [
    "2.spam[2]='hello'"
   ]
  },
  {
   "cell_type": "markdown",
   "id": "08cd0833",
   "metadata": {},
   "source": [
    "3.8"
   ]
  },
  {
   "cell_type": "markdown",
   "id": "129b9f96",
   "metadata": {},
   "source": [
    "4.['a','b','c','d']"
   ]
  },
  {
   "cell_type": "markdown",
   "id": "e2e851ab",
   "metadata": {},
   "source": [
    "5.[2,4]"
   ]
  },
  {
   "cell_type": "markdown",
   "id": "4a83e8da",
   "metadata": {},
   "source": [
    "6.1"
   ]
  },
  {
   "cell_type": "markdown",
   "id": "3b13a43a",
   "metadata": {},
   "source": [
    "7.bacon=[3.14,'cat',11,'cat',True,99]"
   ]
  },
  {
   "cell_type": "markdown",
   "id": "fab38875",
   "metadata": {},
   "source": [
    "8.bacon=[3.14,11,'cat',True,99]"
   ]
  },
  {
   "cell_type": "markdown",
   "id": "b7d6f0a1",
   "metadata": {},
   "source": [
    "9.list concatenation =+,list replication=*"
   ]
  },
  {
   "cell_type": "markdown",
   "id": "d04a2769",
   "metadata": {},
   "source": [
    "10.append() inserts the elements at last position of list and insert() insert an element at particular position ,syntax for index is l1.insert(position,value)"
   ]
  },
  {
   "cell_type": "markdown",
   "id": "61a9780c",
   "metadata": {},
   "source": [
    "11.pop() and remove() are 2 methods to remove an element from the list.."
   ]
  },
  {
   "cell_type": "markdown",
   "id": "c56b3c4b",
   "metadata": {},
   "source": [
    "12.list and string both are in sequence"
   ]
  },
  {
   "cell_type": "markdown",
   "id": "516848f9",
   "metadata": {},
   "source": [
    "13.Tuple are immutable while list are mutable"
   ]
  },
  {
   "cell_type": "markdown",
   "id": "c0cfed90",
   "metadata": {},
   "source": [
    "14.(42,)"
   ]
  },
  {
   "cell_type": "markdown",
   "id": "570eb6a5",
   "metadata": {},
   "source": [
    "15.tuple to list :do type casting like list(tuple ) and vice versa"
   ]
  },
  {
   "cell_type": "markdown",
   "id": "3e23f2ca",
   "metadata": {},
   "source": [
    "17.copy.copy() creates a refrence of the original object ,if  you make changes in original object changes then copied object also changes.\n",
    "copy.deepcopy() creates a deep copy of an object if you make changes to any one of the object then other will not be affected."
   ]
  },
  {
   "cell_type": "code",
   "execution_count": null,
   "id": "1b9c1c38",
   "metadata": {},
   "outputs": [],
   "source": []
  }
 ],
 "metadata": {
  "kernelspec": {
   "display_name": "Python 3 (ipykernel)",
   "language": "python",
   "name": "python3"
  },
  "language_info": {
   "codemirror_mode": {
    "name": "ipython",
    "version": 3
   },
   "file_extension": ".py",
   "mimetype": "text/x-python",
   "name": "python",
   "nbconvert_exporter": "python",
   "pygments_lexer": "ipython3",
   "version": "3.9.12"
  }
 },
 "nbformat": 4,
 "nbformat_minor": 5
}
