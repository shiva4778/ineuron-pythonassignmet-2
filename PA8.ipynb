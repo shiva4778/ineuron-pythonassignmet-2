{
 "cells": [
  {
   "cell_type": "markdown",
   "id": "701efce4",
   "metadata": {},
   "source": [
    "# 1. Write a Python Program to Add Two Matrices?"
   ]
  },
  {
   "cell_type": "code",
   "execution_count": 85,
   "id": "2041dcf4",
   "metadata": {},
   "outputs": [],
   "source": [
    "c=[[1,2],[3,4]]\n",
    "b=[[5,6],[7,8]]"
   ]
  },
  {
   "cell_type": "code",
   "execution_count": 87,
   "id": "f287c77c",
   "metadata": {},
   "outputs": [
    {
     "name": "stdout",
     "output_type": "stream",
     "text": [
      "[[6, 8], [10, 12]]\n"
     ]
    }
   ],
   "source": [
    "d=[]\n",
    "for i in range(len(c)):\n",
    "    k=[]\n",
    "    \n",
    "    for j in range(len(b[i])):\n",
    "        k.append(c[i][j]+b[i][j])\n",
    "    d.append(k)\n",
    "print(d)"
   ]
  },
  {
   "cell_type": "markdown",
   "id": "ad878161",
   "metadata": {},
   "source": [
    "# 2. Write a Python Program to Multiply Two Matrices?"
   ]
  },
  {
   "cell_type": "code",
   "execution_count": 52,
   "id": "1adf5124",
   "metadata": {},
   "outputs": [
    {
     "name": "stdout",
     "output_type": "stream",
     "text": [
      "[[12, 25], [30, 42]]\n"
     ]
    }
   ],
   "source": [
    "a1=[[4,5],[6,7]]\n",
    "a2=[[3,5],[5,6]]\n",
    "a3=[]\n",
    "for i in range(len(a1)):\n",
    "    a4=[]\n",
    "    for j in range(len(a2[i])):\n",
    "        a4.append(a1[i][j]*a2[i][j])\n",
    "    a3.append(a4)\n",
    "print(a3)\n",
    "    \n",
    "    \n",
    "    "
   ]
  },
  {
   "cell_type": "markdown",
   "id": "32d0f020",
   "metadata": {},
   "source": [
    "# 3. Write a Python Program to Transpose a Matrix?"
   ]
  },
  {
   "cell_type": "code",
   "execution_count": 88,
   "id": "15e76275",
   "metadata": {},
   "outputs": [],
   "source": [
    "c=[[1,2],[3,4]]"
   ]
  },
  {
   "cell_type": "code",
   "execution_count": 89,
   "id": "e1096f66",
   "metadata": {},
   "outputs": [
    {
     "name": "stdout",
     "output_type": "stream",
     "text": [
      "[[1, 3], [2, 4]]\n"
     ]
    }
   ],
   "source": [
    "e=[]\n",
    "for i in range(len(c)):\n",
    "    k=[]\n",
    "    for j in c:\n",
    "        k.append(j[i])\n",
    "    e.append(k)\n",
    "print(e)\n",
    "        "
   ]
  },
  {
   "cell_type": "markdown",
   "id": "d445b41a",
   "metadata": {},
   "source": [
    "# 4. Write a Python Program to Sort Words in Alphabetic Order?"
   ]
  },
  {
   "cell_type": "code",
   "execution_count": 113,
   "id": "71acd864",
   "metadata": {},
   "outputs": [
    {
     "name": "stdout",
     "output_type": "stream",
     "text": [
      "enter the character you want to sortshivanshu\n",
      "ahhinssuv\n"
     ]
    }
   ],
   "source": [
    "n=input('enter the character you want to sort')\n",
    "a=[]\n",
    "s=''\n",
    "for i in n:\n",
    "    a.append(ord(i))\n",
    "    \n",
    "\n",
    "n=len(a)\n",
    "for i in range(n):\n",
    "    for j in range(n-i-1):\n",
    "        if a[j]>a[j+1]:\n",
    "            a[j],a[j+1]=a[j+1],a[j]\n",
    "for j in a:\n",
    "    s+=chr(j)\n",
    "print(s)\n"
   ]
  },
  {
   "cell_type": "markdown",
   "id": "c08198eb",
   "metadata": {},
   "source": [
    "# 5. Write a Python Program to Remove Punctuation From a String?"
   ]
  },
  {
   "cell_type": "code",
   "execution_count": 121,
   "id": "7e038136",
   "metadata": {},
   "outputs": [
    {
     "name": "stdout",
     "output_type": "stream",
     "text": [
      "enter the charactersdvhxfdr';.m42552\n",
      "sdvhxfdrm42552\n"
     ]
    }
   ],
   "source": [
    "a=input('enter the character')\n",
    "s=list(a)\n",
    "t=''\n",
    "for i in s:\n",
    "    if i.isalpha() or i.isnumeric():\n",
    "        t+=i\n",
    "print(t)\n",
    "    \n",
    "        "
   ]
  },
  {
   "cell_type": "code",
   "execution_count": null,
   "id": "c42b6557",
   "metadata": {},
   "outputs": [],
   "source": []
  }
 ],
 "metadata": {
  "kernelspec": {
   "display_name": "Python 3 (ipykernel)",
   "language": "python",
   "name": "python3"
  },
  "language_info": {
   "codemirror_mode": {
    "name": "ipython",
    "version": 3
   },
   "file_extension": ".py",
   "mimetype": "text/x-python",
   "name": "python",
   "nbconvert_exporter": "python",
   "pygments_lexer": "ipython3",
   "version": "3.9.12"
  }
 },
 "nbformat": 4,
 "nbformat_minor": 5
}
