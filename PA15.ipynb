{
 "cells": [
  {
   "cell_type": "markdown",
   "id": "41f0840b",
   "metadata": {},
   "source": [
    "# Please write a program using generator to print the numbers which can be divisible by 5 and 7 between 0 and n in comma separated form while n is input by console."
   ]
  },
  {
   "cell_type": "code",
   "execution_count": 35,
   "id": "51cdf70e",
   "metadata": {},
   "outputs": [],
   "source": [
    "def divisible(n):\n",
    "    for i in range(n):\n",
    "        if i%5==0 and i%7==0:\n",
    "            yield i"
   ]
  },
  {
   "cell_type": "code",
   "execution_count": 36,
   "id": "50ad0a7a",
   "metadata": {},
   "outputs": [],
   "source": [
    "s=divisible(100)"
   ]
  },
  {
   "cell_type": "code",
   "execution_count": 37,
   "id": "695dcefd",
   "metadata": {},
   "outputs": [
    {
     "name": "stdout",
     "output_type": "stream",
     "text": [
      "0,35,70\n"
     ]
    }
   ],
   "source": [
    "l=[]\n",
    "for i in s:\n",
    "    l.append(i)\n",
    "k=len(l)\n",
    "for i in range(k):\n",
    "    if i<k-1:\n",
    "        print(l[i],end=',')\n",
    "    else:\n",
    "        print(l[i])"
   ]
  },
  {
   "cell_type": "markdown",
   "id": "2ed018d4",
   "metadata": {},
   "source": [
    "# Please write a program using generator to print the even numbers between 0 and n in comma separated form while n is input by console."
   ]
  },
  {
   "cell_type": "code",
   "execution_count": 42,
   "id": "e8fd3895",
   "metadata": {},
   "outputs": [],
   "source": [
    "def even(n):\n",
    "    for i in range(n):\n",
    "        if i%2==0:\n",
    "            yield i"
   ]
  },
  {
   "cell_type": "code",
   "execution_count": 43,
   "id": "786774bc",
   "metadata": {},
   "outputs": [],
   "source": [
    "s=even(100)"
   ]
  },
  {
   "cell_type": "code",
   "execution_count": 44,
   "id": "c1cb2279",
   "metadata": {},
   "outputs": [
    {
     "name": "stdout",
     "output_type": "stream",
     "text": [
      "0,2,4,6,8,10,12,14,16,18,20,22,24,26,28,30,32,34,36,38,40,42,44,46,48,50,52,54,56,58,60,62,64,66,68,70,72,74,76,78,80,82,84,86,88,90,92,94,96,98\n"
     ]
    }
   ],
   "source": [
    "l=[]\n",
    "for i in s:\n",
    "    l.append(i)\n",
    "k=len(l)\n",
    "for i in range(k):\n",
    "    if i<k-1:\n",
    "        print(l[i],end=',')\n",
    "    else:\n",
    "        print(l[i])\n",
    "    "
   ]
  },
  {
   "cell_type": "markdown",
   "id": "58c063d4",
   "metadata": {},
   "source": [
    "# The Fibonacci Sequence is computed based on the following formula:\n",
    "f(n)=0 if n=0\n",
    "f(n)=1 if n=1\n",
    "f(n)=f(n-1)+f(n-2) if n&gt;1"
   ]
  },
  {
   "cell_type": "code",
   "execution_count": 54,
   "id": "99742b9c",
   "metadata": {},
   "outputs": [
    {
     "name": "stdout",
     "output_type": "stream",
     "text": [
      "[0, 1, 1, 2, 3, 5, 8, 13, 21, 34, 55, 89, 144, 233, 377, 610, 987, 1597, 2584, 4181]\n"
     ]
    }
   ],
   "source": [
    "def genFibonaci(in_num):\n",
    "    if in_num == 0:\n",
    "        return 0\n",
    "    elif in_num == 1:\n",
    "        return 1\n",
    "    else:\n",
    "        return genFibonaci(in_num-1)+genFibonaci(in_num-2)\n",
    "    \n",
    "print([genFibonaci(x) for x in range(20)])"
   ]
  },
  {
   "cell_type": "markdown",
   "id": "1d477d89",
   "metadata": {},
   "source": [
    "# Assuming that we have some email addresses in the &quot;username@companyname.com&quot; format, please write program to print the user name of a given email address. Both user names and company names are composed of letters only."
   ]
  },
  {
   "cell_type": "code",
   "execution_count": 55,
   "id": "9466f768",
   "metadata": {},
   "outputs": [
    {
     "name": "stdout",
     "output_type": "stream",
     "text": [
      "enter the email addressshivanshumall786@gmail.com\n",
      "shivanshumall786\n"
     ]
    }
   ],
   "source": [
    "email=input('enter the email address')\n",
    "k=email.split(sep='@')\n",
    "print(k[0])"
   ]
  },
  {
   "cell_type": "markdown",
   "id": "43cb6b1c",
   "metadata": {},
   "source": [
    "# Define a class named Shape and its subclass Square. The Square class has an init function which takes a length as argument. Both classes have a area function which can print the area of the shape where Shape&#39;s area is 0 by default."
   ]
  },
  {
   "cell_type": "code",
   "execution_count": 83,
   "id": "e94760ee",
   "metadata": {},
   "outputs": [],
   "source": [
    "class shape:\n",
    "    def area(self):\n",
    "        return 0\n",
    "        \n",
    "        \n",
    "class square:\n",
    "    def __init__(self,side=0):\n",
    "        self.side=side\n",
    "    def area(self):\n",
    "        return self.side*self.side\n",
    "        "
   ]
  },
  {
   "cell_type": "code",
   "execution_count": 84,
   "id": "bd9638fb",
   "metadata": {},
   "outputs": [],
   "source": [
    "a=square(45)"
   ]
  },
  {
   "cell_type": "code",
   "execution_count": 85,
   "id": "25cc82e7",
   "metadata": {},
   "outputs": [
    {
     "data": {
      "text/plain": [
       "2025"
      ]
     },
     "execution_count": 85,
     "metadata": {},
     "output_type": "execute_result"
    }
   ],
   "source": [
    "a.area()"
   ]
  },
  {
   "cell_type": "code",
   "execution_count": null,
   "id": "de61c30d",
   "metadata": {},
   "outputs": [],
   "source": []
  }
 ],
 "metadata": {
  "kernelspec": {
   "display_name": "Python 3 (ipykernel)",
   "language": "python",
   "name": "python3"
  },
  "language_info": {
   "codemirror_mode": {
    "name": "ipython",
    "version": 3
   },
   "file_extension": ".py",
   "mimetype": "text/x-python",
   "name": "python",
   "nbconvert_exporter": "python",
   "pygments_lexer": "ipython3",
   "version": "3.9.12"
  }
 },
 "nbformat": 4,
 "nbformat_minor": 5
}
