{
 "cells": [
  {
   "cell_type": "markdown",
   "id": "8d88ae6a",
   "metadata": {},
   "source": [
    "# Question1. Write a function that stutters a word as if someone is struggling to read it. The first two letters are repeated twice with an ellipsis ... and space after each, and then the word is pronounced with a question mark ?."
   ]
  },
  {
   "cell_type": "code",
   "execution_count": 4,
   "id": "944dc441",
   "metadata": {},
   "outputs": [
    {
     "name": "stdout",
     "output_type": "stream",
     "text": [
      "enter the string to shutter. incredible\n",
      "in... in... incredible\n"
     ]
    }
   ],
   "source": [
    "def stutters(n):\n",
    "    return n[0:2]+'... '+n[0:2]+'... '+n\n",
    "n=input('enter the string to shutter. ')\n",
    "k=stutters(n)\n",
    "print(k)"
   ]
  },
  {
   "cell_type": "markdown",
   "id": "56bd4f68",
   "metadata": {},
   "source": [
    "# Question 2.Create a function that takes an angle in radians and returns the corresponding angle in degrees rounded to one decimal place."
   ]
  },
  {
   "cell_type": "code",
   "execution_count": 11,
   "id": "ee7ed6ce",
   "metadata": {},
   "outputs": [
    {
     "name": "stdout",
     "output_type": "stream",
     "text": [
      "57.324840764331206\n"
     ]
    }
   ],
   "source": [
    "def radian(n):\n",
    "    return (n*180) /3.14\n",
    "a=radian(1)\n",
    "print(a)"
   ]
  },
  {
   "cell_type": "markdown",
   "id": "2f4e3eec",
   "metadata": {},
   "source": [
    "# Question 3. In this challenge, establish if a given integer num is a Curzon number. If 1 plus 2 elevated to num is exactly divisible by 1 plus 2 multiplied by num, then num is a Curzon number."
   ]
  },
  {
   "cell_type": "code",
   "execution_count": 29,
   "id": "884b585c",
   "metadata": {},
   "outputs": [],
   "source": [
    "def curzon(n):\n",
    "    if ((2**n)+1)%((2*n)+1)==0 :\n",
    "        print('it is a curzon number')\n",
    "    else:\n",
    "        print('it is not a curzon no')"
   ]
  },
  {
   "cell_type": "code",
   "execution_count": 33,
   "id": "ccefe12c",
   "metadata": {},
   "outputs": [
    {
     "name": "stdout",
     "output_type": "stream",
     "text": [
      "it is a curzon number\n"
     ]
    }
   ],
   "source": [
    "a=curzon(5)"
   ]
  },
  {
   "cell_type": "markdown",
   "id": "32cd1a6f",
   "metadata": {},
   "source": [
    "# Question 4.Given the side length x find the area of a hexagon."
   ]
  },
  {
   "cell_type": "code",
   "execution_count": 41,
   "id": "b251ac72",
   "metadata": {},
   "outputs": [
    {
     "name": "stdout",
     "output_type": "stream",
     "text": [
      "2.598076211353316\n"
     ]
    }
   ],
   "source": [
    "def hexagon(n):\n",
    "    a=(3*(3**(1/2))*n**2)/2\n",
    "    return a\n",
    "a=hexagon(1)\n",
    "print(a)"
   ]
  },
  {
   "cell_type": "markdown",
   "id": "deffd641",
   "metadata": {},
   "source": [
    "# Question 5. Create a function that returns a base-2 (binary) representation of a base-10 (decimal) string number. To convert is simple: ((2) means base-2 and (10) means base-10) 010101001(2) = 1 + 8 + 32 + 128."
   ]
  },
  {
   "cell_type": "code",
   "execution_count": 53,
   "id": "94001aef",
   "metadata": {},
   "outputs": [
    {
     "name": "stdout",
     "output_type": "stream",
     "text": [
      "10\n"
     ]
    }
   ],
   "source": [
    "a='1010'\n",
    "k=list(a)\n",
    "k.reverse()\n",
    "sum1=0\n",
    "for i in range(len(k)):\n",
    "    sum1+=int(k[i])*2**i\n",
    "print(sum1)\n"
   ]
  },
  {
   "cell_type": "code",
   "execution_count": null,
   "id": "b0922f14",
   "metadata": {},
   "outputs": [],
   "source": []
  }
 ],
 "metadata": {
  "kernelspec": {
   "display_name": "Python 3 (ipykernel)",
   "language": "python",
   "name": "python3"
  },
  "language_info": {
   "codemirror_mode": {
    "name": "ipython",
    "version": 3
   },
   "file_extension": ".py",
   "mimetype": "text/x-python",
   "name": "python",
   "nbconvert_exporter": "python",
   "pygments_lexer": "ipython3",
   "version": "3.9.12"
  }
 },
 "nbformat": 4,
 "nbformat_minor": 5
}
