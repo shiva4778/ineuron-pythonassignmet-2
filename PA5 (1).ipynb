{
 "cells": [
  {
   "cell_type": "markdown",
   "id": "bef44648",
   "metadata": {},
   "source": [
    "# 1. Write a Python Program to Find LCM?"
   ]
  },
  {
   "cell_type": "code",
   "execution_count": 2,
   "id": "1a6f19ff",
   "metadata": {},
   "outputs": [
    {
     "name": "stdout",
     "output_type": "stream",
     "text": [
      "enter the no a to find its lcm12\n",
      "enter the no b to find its lcm18\n",
      "36\n"
     ]
    }
   ],
   "source": [
    "n=2\n",
    "k=bool(1)\n",
    "l=int(input('enter the no a to find its lcm'))\n",
    "m=int(input('enter the no b to find its lcm'))\n",
    "while k:\n",
    "    if n%l==0 and n%m==0:\n",
    "        lcm=n\n",
    "        k=bool(0)\n",
    "    n+=1\n",
    "print(lcm)"
   ]
  },
  {
   "cell_type": "markdown",
   "id": "0d862b33",
   "metadata": {},
   "source": [
    "# 2. Write a Python Program to Find HCF?"
   ]
  },
  {
   "cell_type": "code",
   "execution_count": 11,
   "id": "ced442d5",
   "metadata": {},
   "outputs": [
    {
     "name": "stdout",
     "output_type": "stream",
     "text": [
      "enter the no you want to find its hcf60\n",
      "enter the no b to find itd hcf75\n",
      "15\n"
     ]
    }
   ],
   "source": [
    "a=int(input('enter the no you want to find its hcf'))\n",
    "b=int(input('enter the no b to find itd hcf'))\n",
    "l=[]\n",
    "k=bool(1)\n",
    "n=1\n",
    "while k:\n",
    "    if a%n==0 and b%n==0:\n",
    "        l.append(n)\n",
    "    if n>a or n>b:\n",
    "        k=bool(0)\n",
    "    n+=1\n",
    "print(max(l))"
   ]
  },
  {
   "cell_type": "markdown",
   "id": "bce78580",
   "metadata": {},
   "source": [
    "# 3. Write a Python Program to Convert Decimal to Binary, Octal and Hexadecimal?"
   ]
  },
  {
   "cell_type": "code",
   "execution_count": 15,
   "id": "2cd03d1b",
   "metadata": {},
   "outputs": [
    {
     "name": "stdout",
     "output_type": "stream",
     "text": [
      "enter the number you want to convert it into binary,octal and hexadecimal56\n",
      "0b111000 0x38 0o70\n"
     ]
    }
   ],
   "source": [
    "n=int(input('enter the number you want to convert it into binary,octal and hexadecimal'))\n",
    "print(bin(n),hex(n),oct(n))"
   ]
  },
  {
   "cell_type": "markdown",
   "id": "356f3e29",
   "metadata": {},
   "source": [
    "# 4. Write a Python Program To Find ASCII value of a character?"
   ]
  },
  {
   "cell_type": "code",
   "execution_count": 20,
   "id": "145540a5",
   "metadata": {},
   "outputs": [
    {
     "name": "stdout",
     "output_type": "stream",
     "text": [
      "enter the character you want to find its ASCII value6\n",
      "54\n"
     ]
    }
   ],
   "source": [
    "n=input('enter the character you want to find its ASCII value')\n",
    "print(ord(n))"
   ]
  },
  {
   "cell_type": "markdown",
   "id": "82e23b11",
   "metadata": {},
   "source": [
    "# 5. Write a Python Program to Make a Simple Calculator with 4 basic mathematical operations?"
   ]
  },
  {
   "cell_type": "code",
   "execution_count": 21,
   "id": "9f64d89e",
   "metadata": {},
   "outputs": [
    {
     "name": "stdout",
     "output_type": "stream",
     "text": [
      "enter the no a8\n",
      "enter the no b6\n",
      "the addition of 8 & 6 is 14\n",
      "the difference of 8 & 6 is 2\n",
      "the multiplication of 8 & 6 is 48\n",
      "the division of 8 and 6 is 1.3333333333333333\n"
     ]
    }
   ],
   "source": [
    "a=int(input('enter the no a'))\n",
    "b=int(input('enter the no b'))\n",
    "print(f'the addition of {a} & {b} is {a+b}')\n",
    "\n",
    "print(f'the difference of {a} & {b} is {a-b}')\n",
    "print(f'the multiplication of {a} & {b} is {a*b}')\n",
    "print(f'the division of {a} and {b} is {a/b}')"
   ]
  }
 ],
 "metadata": {
  "kernelspec": {
   "display_name": "Python 3 (ipykernel)",
   "language": "python",
   "name": "python3"
  },
  "language_info": {
   "codemirror_mode": {
    "name": "ipython",
    "version": 3
   },
   "file_extension": ".py",
   "mimetype": "text/x-python",
   "name": "python",
   "nbconvert_exporter": "python",
   "pygments_lexer": "ipython3",
   "version": "3.9.12"
  }
 },
 "nbformat": 4,
 "nbformat_minor": 5
}
