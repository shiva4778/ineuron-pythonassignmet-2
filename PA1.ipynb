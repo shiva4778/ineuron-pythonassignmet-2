{
 "cells": [
  {
   "cell_type": "markdown",
   "id": "235b8904",
   "metadata": {},
   "source": [
    "# 1. Write a Python program to print &quot;Hello Python&quot;?"
   ]
  },
  {
   "cell_type": "code",
   "execution_count": 1,
   "id": "726bcda3",
   "metadata": {},
   "outputs": [
    {
     "name": "stdout",
     "output_type": "stream",
     "text": [
      "Hello World!\n"
     ]
    }
   ],
   "source": [
    "print('Hello World!')"
   ]
  },
  {
   "cell_type": "markdown",
   "id": "e192febf",
   "metadata": {},
   "source": [
    "# 2. Write a Python program to do arithmetical operations addition and division.?\n"
   ]
  },
  {
   "cell_type": "code",
   "execution_count": 2,
   "id": "57ab3edf",
   "metadata": {},
   "outputs": [],
   "source": [
    "def arithmetic(a,b):\n",
    "    print(f'the sum of {a} and {b} is {a+b}')\n",
    "    print(f'the division of {a} and {b} is {a/b}')"
   ]
  },
  {
   "cell_type": "markdown",
   "id": "93bc78c1",
   "metadata": {},
   "source": [
    "# 3. Write a Python program to find the area of a triangle?"
   ]
  },
  {
   "cell_type": "code",
   "execution_count": 3,
   "id": "e9e52b5e",
   "metadata": {},
   "outputs": [],
   "source": [
    "def area(base,height):\n",
    "    print(f'the area of triangle base {base } and height {height} is {1/2*base*height}')"
   ]
  },
  {
   "cell_type": "markdown",
   "id": "6742ff85",
   "metadata": {},
   "source": [
    "# 4. Write a Python program to swap two variables?"
   ]
  },
  {
   "cell_type": "code",
   "execution_count": 4,
   "id": "73229e01",
   "metadata": {},
   "outputs": [],
   "source": [
    "def swap(a,b):\n",
    "    c=a\n",
    "    a=b\n",
    "    b=c\n",
    "    print(f'the swapped variable is {a} and {c}')"
   ]
  },
  {
   "cell_type": "markdown",
   "id": "ee359646",
   "metadata": {},
   "source": [
    "# 5. Write a Python program to generate a random number?"
   ]
  },
  {
   "cell_type": "code",
   "execution_count": 5,
   "id": "4398559d",
   "metadata": {},
   "outputs": [
    {
     "name": "stdout",
     "output_type": "stream",
     "text": [
      "38\n"
     ]
    }
   ],
   "source": [
    "import random\n",
    "print(random.randint(10,50))"
   ]
  },
  {
   "cell_type": "code",
   "execution_count": null,
   "id": "0f5d946b",
   "metadata": {},
   "outputs": [],
   "source": []
  }
 ],
 "metadata": {
  "kernelspec": {
   "display_name": "Python 3 (ipykernel)",
   "language": "python",
   "name": "python3"
  },
  "language_info": {
   "codemirror_mode": {
    "name": "ipython",
    "version": 3
   },
   "file_extension": ".py",
   "mimetype": "text/x-python",
   "name": "python",
   "nbconvert_exporter": "python",
   "pygments_lexer": "ipython3",
   "version": "3.9.12"
  }
 },
 "nbformat": 4,
 "nbformat_minor": 5
}
