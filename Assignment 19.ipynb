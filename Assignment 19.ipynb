{
 "cells": [
  {
   "cell_type": "markdown",
   "id": "3bf65407",
   "metadata": {},
   "source": [
    "# 1. Make a class called Thing with no contents and print it. Then, create an object called example from this class and also print it. Are the printed values the same or different?"
   ]
  },
  {
   "cell_type": "code",
   "execution_count": 1,
   "id": "25dc7a38",
   "metadata": {},
   "outputs": [],
   "source": [
    "class Thing:\n",
    "    pass"
   ]
  },
  {
   "cell_type": "code",
   "execution_count": 3,
   "id": "248335e7",
   "metadata": {},
   "outputs": [],
   "source": [
    "example=Thing()"
   ]
  },
  {
   "cell_type": "code",
   "execution_count": 4,
   "id": "84d2e325",
   "metadata": {},
   "outputs": [
    {
     "name": "stdout",
     "output_type": "stream",
     "text": [
      "<__main__.Thing object at 0x000001AA52DD6DC0>\n"
     ]
    }
   ],
   "source": [
    "print(example)"
   ]
  },
  {
   "cell_type": "code",
   "execution_count": 8,
   "id": "dd8dd75b",
   "metadata": {},
   "outputs": [
    {
     "name": "stdout",
     "output_type": "stream",
     "text": [
      "<class '__main__.Thing'>\n"
     ]
    }
   ],
   "source": [
    "print(Thing)"
   ]
  },
  {
   "cell_type": "markdown",
   "id": "2400245a",
   "metadata": {},
   "source": [
    "# Create a new class called Thing2 and add the value &#39;abc&#39; to the letters class attribute. Letters should be printed."
   ]
  },
  {
   "cell_type": "code",
   "execution_count": 11,
   "id": "34fcae80",
   "metadata": {},
   "outputs": [
    {
     "name": "stdout",
     "output_type": "stream",
     "text": [
      "abc\n"
     ]
    }
   ],
   "source": [
    "class Thing2:\n",
    "    letters='abc'\n",
    "print(Thing2.letters)\n",
    "    "
   ]
  },
  {
   "cell_type": "markdown",
   "id": "0d61a9ea",
   "metadata": {},
   "source": [
    "# 3. Make yet another class called, of course, Thing3. This time, assign the value &#39;xyz&#39; to an instance (object) attribute called letters. Print letters. Do you need to make an object from the class to do this?"
   ]
  },
  {
   "cell_type": "code",
   "execution_count": 24,
   "id": "a9ece544",
   "metadata": {},
   "outputs": [
    {
     "name": "stdout",
     "output_type": "stream",
     "text": [
      "xyz\n"
     ]
    }
   ],
   "source": [
    "class Thing3:\n",
    "    def __init__(self):\n",
    "        self.letters='xyz'\n",
    "try:\n",
    "    print(Thing3.letters)\n",
    "except:\n",
    "    a=Thing3()\n",
    "    print(a.letters)\n",
    "        "
   ]
  },
  {
   "cell_type": "markdown",
   "id": "5128954c",
   "metadata": {},
   "source": [
    "# 4. Create an Element class with the instance attributes name, symbol, and number. Create a class object with the values &#39;Hydrogen,&#39; &#39;H,&#39; and 1."
   ]
  },
  {
   "cell_type": "code",
   "execution_count": 39,
   "id": "96d4274c",
   "metadata": {},
   "outputs": [],
   "source": [
    "class Element:\n",
    "    def __init__(self,name,symbol,number):\n",
    "        self.name=name\n",
    "        self.symbol=symbol\n",
    "        self.number=number\n",
    "a=Element('Hydrogen','H',1)"
   ]
  },
  {
   "cell_type": "markdown",
   "id": "3375202e",
   "metadata": {},
   "source": [
    "# 5. Make a dictionary with these keys and values: &#39;name&#39;: &#39;Hydrogen&#39;, &#39;symbol&#39;: &#39;H&#39;, &#39;number&#39;: 1. Then, create an object called hydrogen from class Element using this dictionary."
   ]
  },
  {
   "cell_type": "code",
   "execution_count": 48,
   "id": "a3e621ab",
   "metadata": {},
   "outputs": [],
   "source": [
    "d={'name':'Oxygen','symbol':'o','number':8}"
   ]
  },
  {
   "cell_type": "code",
   "execution_count": 50,
   "id": "f58fe5e2",
   "metadata": {},
   "outputs": [],
   "source": [
    "b=Element(**d)"
   ]
  },
  {
   "cell_type": "code",
   "execution_count": 53,
   "id": "9936c4ec",
   "metadata": {},
   "outputs": [
    {
     "data": {
      "text/plain": [
       "('Oxygen', 'o', 8)"
      ]
     },
     "execution_count": 53,
     "metadata": {},
     "output_type": "execute_result"
    }
   ],
   "source": [
    "b.name,b.symbol,b.number"
   ]
  },
  {
   "cell_type": "markdown",
   "id": "d62367f8",
   "metadata": {},
   "source": [
    "# 6. For the Element class, define a method called dump() that prints the values of the object’s attributes (name, symbol, and number). Create the hydrogen object from this new definition and use dump() to print its attributes."
   ]
  },
  {
   "cell_type": "code",
   "execution_count": 56,
   "id": "e00f1087",
   "metadata": {},
   "outputs": [],
   "source": [
    "class element:\n",
    "    def __init__(self,name,symbol,number):\n",
    "        self.name=name\n",
    "        self.symbol=symbol\n",
    "        self.number=number\n",
    "    def dump(self):\n",
    "        print(self.name,self.symbol,self.number)\n",
    "hydrogen=element('Hydrogen','H',1)"
   ]
  },
  {
   "cell_type": "code",
   "execution_count": 57,
   "id": "408a3c66",
   "metadata": {},
   "outputs": [
    {
     "name": "stdout",
     "output_type": "stream",
     "text": [
      "Hydrogen H 1\n"
     ]
    }
   ],
   "source": [
    "hydrogen.dump()"
   ]
  },
  {
   "cell_type": "markdown",
   "id": "2c4d6cef",
   "metadata": {},
   "source": [
    "# 7. Call print(hydrogen). In the definition of Element, change the name of method dump to __str__, create a new hydrogen object, and call print(hydrogen) again."
   ]
  },
  {
   "cell_type": "code",
   "execution_count": 76,
   "id": "3ef78ec6",
   "metadata": {},
   "outputs": [],
   "source": [
    "class element:\n",
    "    def __init__(self,name,symbol,number):\n",
    "        self.name=name\n",
    "        self.symbol=symbol\n",
    "        self.number=number\n",
    "    def __str__(self):\n",
    "        return f'{self.name},{self.symbol},{self.number}'"
   ]
  },
  {
   "cell_type": "code",
   "execution_count": 77,
   "id": "0e02b018",
   "metadata": {},
   "outputs": [],
   "source": [
    "hydrogen=element('helium','He',2)"
   ]
  },
  {
   "cell_type": "code",
   "execution_count": 78,
   "id": "6729689b",
   "metadata": {},
   "outputs": [
    {
     "name": "stdout",
     "output_type": "stream",
     "text": [
      "helium,He,2\n"
     ]
    }
   ],
   "source": [
    "print(hydrogen)"
   ]
  },
  {
   "cell_type": "markdown",
   "id": "65712ce9",
   "metadata": {},
   "source": [
    "# 8. Modify Element to make the attributes name, symbol, and number private. Define a getter property for each to return its value."
   ]
  },
  {
   "cell_type": "code",
   "execution_count": 128,
   "id": "f9742eb7",
   "metadata": {},
   "outputs": [],
   "source": [
    "class element:\n",
    "    def __init__(self,name,symbol,number):\n",
    "        self.__name=name\n",
    "        self.__symbol=symbol\n",
    "        self.__number=number\n",
    "    def getter(self):\n",
    "        print(self.__name,self.__symbol,self.__number)"
   ]
  },
  {
   "cell_type": "code",
   "execution_count": 129,
   "id": "7c2e96d3",
   "metadata": {},
   "outputs": [],
   "source": [
    "hydrogen=element('shivanshu','s',1)"
   ]
  },
  {
   "cell_type": "code",
   "execution_count": 130,
   "id": "0f9adf22",
   "metadata": {},
   "outputs": [
    {
     "name": "stdout",
     "output_type": "stream",
     "text": [
      "shivanshu s 1\n"
     ]
    }
   ],
   "source": [
    "hydrogen.getter()"
   ]
  },
  {
   "cell_type": "markdown",
   "id": "0eadd639",
   "metadata": {},
   "source": [
    "# 9. Define three classes: Bear, Rabbit, and Octothorpe. For each, define only one method: eats(). This should return &#39;berries&#39; (Bear), &#39;clover&#39; (Rabbit), or &#39;campers&#39; (Octothorpe). Create one object fromeach and print what it eats."
   ]
  },
  {
   "cell_type": "code",
   "execution_count": 137,
   "id": "cce76934",
   "metadata": {},
   "outputs": [],
   "source": [
    "class bear:\n",
    "    def  eats(self):\n",
    "        return 'berries'\n",
    "class rabbit:\n",
    "    def eats(self):\n",
    "        return 'clover'\n",
    "class octopus:\n",
    "    def eats(self):\n",
    "        return 'camphers'"
   ]
  },
  {
   "cell_type": "code",
   "execution_count": 138,
   "id": "2f66ac1a",
   "metadata": {},
   "outputs": [],
   "source": [
    "a=bear()"
   ]
  },
  {
   "cell_type": "code",
   "execution_count": 139,
   "id": "183f4c33",
   "metadata": {},
   "outputs": [
    {
     "data": {
      "text/plain": [
       "'berries'"
      ]
     },
     "execution_count": 139,
     "metadata": {},
     "output_type": "execute_result"
    }
   ],
   "source": [
    "a.eats()"
   ]
  },
  {
   "cell_type": "markdown",
   "id": "fb93402b",
   "metadata": {},
   "source": [
    "# 10. Define these classes: Laser, Claw, and SmartPhone. Each has only one method: does(). This returns &#39;disintegrate&#39; (Laser), &#39;crush&#39; (Claw), or &#39;ring&#39; (SmartPhone). Then, define the class Robot that has one instance (object) of each of these. Define a does() method for the Robot that prints what its component objects do."
   ]
  },
  {
   "cell_type": "code",
   "execution_count": 220,
   "id": "913c9113",
   "metadata": {},
   "outputs": [],
   "source": [
    "class laser:\n",
    "    def does(self):\n",
    "        return 'disintegrate'\n",
    "class claw:\n",
    "    def does(self):\n",
    "        return 'crush'\n",
    "class smartphone:\n",
    "    def does(self):\n",
    "        return 'ring'\n",
    "class robot:\n",
    "    def __init__(self):\n",
    "        self.Laser=laser()\n",
    "        self.Claw=claw()\n",
    "        self.Smartphone=smartphone()\n",
    "    def does(self):\n",
    "        print(self.Laser.does(),self.Claw.does(),self.Smartphone.does())\n",
    "        \n",
    "    \n",
    "        \n",
    "    "
   ]
  },
  {
   "cell_type": "code",
   "execution_count": 221,
   "id": "8afe997e",
   "metadata": {},
   "outputs": [],
   "source": [
    "w=robot()"
   ]
  },
  {
   "cell_type": "code",
   "execution_count": 223,
   "id": "da8f6c64",
   "metadata": {},
   "outputs": [
    {
     "name": "stdout",
     "output_type": "stream",
     "text": [
      "disintegrate crush ring\n"
     ]
    }
   ],
   "source": [
    "w.does()"
   ]
  },
  {
   "cell_type": "code",
   "execution_count": null,
   "id": "86c728e2",
   "metadata": {},
   "outputs": [],
   "source": []
  }
 ],
 "metadata": {
  "kernelspec": {
   "display_name": "Python 3 (ipykernel)",
   "language": "python",
   "name": "python3"
  },
  "language_info": {
   "codemirror_mode": {
    "name": "ipython",
    "version": 3
   },
   "file_extension": ".py",
   "mimetype": "text/x-python",
   "name": "python",
   "nbconvert_exporter": "python",
   "pygments_lexer": "ipython3",
   "version": "3.9.12"
  }
 },
 "nbformat": 4,
 "nbformat_minor": 5
}
