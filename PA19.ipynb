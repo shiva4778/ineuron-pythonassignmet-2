{
 "cells": [
  {
   "cell_type": "markdown",
   "id": "c33d081c",
   "metadata": {},
   "source": [
    "# Create a function that takes a string and returns a string in which each character is repeated once."
   ]
  },
  {
   "cell_type": "code",
   "execution_count": 3,
   "id": "802446e6",
   "metadata": {},
   "outputs": [
    {
     "name": "stdout",
     "output_type": "stream",
     "text": [
      "ssttrriinngg\n"
     ]
    }
   ],
   "source": [
    "def replicate(n):\n",
    "    \n",
    "    k=''\n",
    "    for i in a:\n",
    "        k+=i*2\n",
    "    return(k)\n",
    "a=replicate('String')\n",
    "print(a)"
   ]
  },
  {
   "cell_type": "markdown",
   "id": "42cc8a14",
   "metadata": {},
   "source": [
    "# Create a function that reverses a boolean value and returns the string &quot;boolean expected&quot; if another variable type is given."
   ]
  },
  {
   "cell_type": "code",
   "execution_count": 4,
   "id": "4e2513f4",
   "metadata": {},
   "outputs": [],
   "source": [
    "def reverse(n):\n",
    "    if n==bool(0):\n",
    "        return bool(1)\n",
    "    elif n==bool(1):\n",
    "        return bool(0)\n",
    "    elif n==0 or n==None:\n",
    "        return 'Boolean Expected'\n",
    "a=reverse(True)"
   ]
  },
  {
   "cell_type": "code",
   "execution_count": 5,
   "id": "81547a44",
   "metadata": {},
   "outputs": [
    {
     "name": "stdout",
     "output_type": "stream",
     "text": [
      "False\n"
     ]
    }
   ],
   "source": [
    "print(a)"
   ]
  },
  {
   "cell_type": "markdown",
   "id": "dc0bf44e",
   "metadata": {},
   "source": [
    "# Create a function that returns the thickness (in meters) of a piece of paper after folding it n number of times. The paper starts off with a thickness of 0.5mm."
   ]
  },
  {
   "cell_type": "code",
   "execution_count": 12,
   "id": "6392a4ea",
   "metadata": {},
   "outputs": [],
   "source": [
    " def thickness(n):\n",
    "        return 0.001*(2**n*0.5)\n",
    "a=thickness(21)"
   ]
  },
  {
   "cell_type": "code",
   "execution_count": 13,
   "id": "ef9b582d",
   "metadata": {},
   "outputs": [
    {
     "name": "stdout",
     "output_type": "stream",
     "text": [
      "1048.576\n"
     ]
    }
   ],
   "source": [
    "print(a)"
   ]
  },
  {
   "cell_type": "markdown",
   "id": "e85c6925",
   "metadata": {},
   "source": [
    "# Create a function that takes a single string as argument and returns an ordered list containing the indices of all capital letters in the string."
   ]
  },
  {
   "cell_type": "code",
   "execution_count": 22,
   "id": "c7cf2fc4",
   "metadata": {},
   "outputs": [
    {
     "name": "stdout",
     "output_type": "stream",
     "text": [
      "[1, 3, 5]\n"
     ]
    }
   ],
   "source": [
    "def capital(n):\n",
    "    k=[]\n",
    "    for i in range(len(n)):\n",
    "        if n[i].isupper():\n",
    "            k.append(i)\n",
    "    return (k)\n",
    "a=capital('eDaBiT')\n",
    "print(a)\n",
    "        "
   ]
  },
  {
   "cell_type": "markdown",
   "id": "0229402c",
   "metadata": {},
   "source": [
    " # Using list comprehensions, create a function that finds all even numbers from 1 to the given number."
   ]
  },
  {
   "cell_type": "code",
   "execution_count": 25,
   "id": "2bd441c3",
   "metadata": {},
   "outputs": [
    {
     "name": "stdout",
     "output_type": "stream",
     "text": [
      "[2, 4, 6, 8, 10, 12, 14, 16, 18]\n"
     ]
    }
   ],
   "source": [
    "i=[i for i in range(1,20) if i%2==0]\n",
    "print(i)"
   ]
  },
  {
   "cell_type": "code",
   "execution_count": null,
   "id": "a66b77d5",
   "metadata": {},
   "outputs": [],
   "source": []
  }
 ],
 "metadata": {
  "kernelspec": {
   "display_name": "Python 3 (ipykernel)",
   "language": "python",
   "name": "python3"
  },
  "language_info": {
   "codemirror_mode": {
    "name": "ipython",
    "version": 3
   },
   "file_extension": ".py",
   "mimetype": "text/x-python",
   "name": "python",
   "nbconvert_exporter": "python",
   "pygments_lexer": "ipython3",
   "version": "3.9.12"
  }
 },
 "nbformat": 4,
 "nbformat_minor": 5
}
