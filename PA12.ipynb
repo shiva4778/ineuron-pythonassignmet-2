{
 "cells": [
  {
   "cell_type": "markdown",
   "id": "11bd6529",
   "metadata": {},
   "source": [
    "# 1. Write a Python program to Extract Unique values dictionary values?"
   ]
  },
  {
   "cell_type": "code",
   "execution_count": 1,
   "id": "00ca7175",
   "metadata": {},
   "outputs": [
    {
     "name": "stdout",
     "output_type": "stream",
     "text": [
      "45\n",
      "89\n",
      "65\n"
     ]
    }
   ],
   "source": [
    "d={'s':45,'w':89,'r':65}\n",
    "for i in d:\n",
    "    print(d[i])"
   ]
  },
  {
   "cell_type": "markdown",
   "id": "2d685bdd",
   "metadata": {},
   "source": [
    "# 2. Write a Python program to find the sum of all items in a dictionary?"
   ]
  },
  {
   "cell_type": "code",
   "execution_count": 3,
   "id": "85734038",
   "metadata": {},
   "outputs": [
    {
     "name": "stdout",
     "output_type": "stream",
     "text": [
      "199\n"
     ]
    }
   ],
   "source": [
    "d={'s':45,'w':89,'r':65}\n",
    "sum1=0\n",
    "for i in d:\n",
    "    sum1+=d[i]\n",
    "print(sum1\n",
    "     )"
   ]
  },
  {
   "cell_type": "markdown",
   "id": "196fc23b",
   "metadata": {},
   "source": [
    "# 3. Write a Python program to Merging two Dictionaries?"
   ]
  },
  {
   "cell_type": "code",
   "execution_count": 6,
   "id": "e05da392",
   "metadata": {},
   "outputs": [
    {
     "name": "stdout",
     "output_type": "stream",
     "text": [
      "{'s': 45, 'w': 89, 'r': 65, 'e': 23, 'c': 56, 'rq': 12}\n"
     ]
    }
   ],
   "source": [
    "d1={'s':45,'w':89,'r':65}\n",
    "d2={'e':23,'c':56,'rq':12}\n",
    "print({**d1,**d2})"
   ]
  },
  {
   "cell_type": "markdown",
   "id": "e45e5e49",
   "metadata": {},
   "source": [
    "# 4. Write a Python program to convert key-values list to flat dictionary?"
   ]
  },
  {
   "cell_type": "code",
   "execution_count": 9,
   "id": "e2abe60a",
   "metadata": {},
   "outputs": [
    {
     "name": "stdout",
     "output_type": "stream",
     "text": [
      "[['1', 48, 64], ['2', 23, 65]]\n"
     ]
    }
   ],
   "source": [
    "d={'1':{'h1':48,'h2':64},'2':{'h3':23,'h4':65}}\n",
    "l=[]\n",
    "f=[]\n",
    "for i in d:\n",
    "    l=[]\n",
    "    l.append(i)\n",
    "    if type(d[i])==type({}):\n",
    "        for j in d[i]:\n",
    "            l.append(d[i][j])\n",
    "    f.append(l)\n",
    "print(f)\n",
    "            "
   ]
  },
  {
   "cell_type": "markdown",
   "id": "32d45711",
   "metadata": {},
   "source": [
    "# 5. Write a Python program to insertion at the beginning in OrderedDict?"
   ]
  },
  {
   "cell_type": "code",
   "execution_count": 14,
   "id": "53037d7f",
   "metadata": {},
   "outputs": [
    {
     "name": "stdout",
     "output_type": "stream",
     "text": [
      "plzz enter the key5\n",
      "plzz enter the value6\n",
      "{'5': '6', 'a': 45, 'er': 63, 'rt': 98}\n"
     ]
    }
   ],
   "source": [
    "key=input('plzz enter the key')\n",
    "value=input('plzz enter the value')\n",
    "d={'a':45,'er':63,'rt':98}\n",
    "s={}\n",
    "s[key]=value\n",
    "print({**s,**d})"
   ]
  },
  {
   "cell_type": "markdown",
   "id": "0decbcd9",
   "metadata": {},
   "source": [
    "# 6. Write a Python program to check order of character in string using OrderedDict()?"
   ]
  },
  {
   "cell_type": "code",
   "execution_count": 15,
   "id": "561e4136",
   "metadata": {},
   "outputs": [
    {
     "name": "stdout",
     "output_type": "stream",
     "text": [
      "{'a': 1000, 'f': 200, 'd': 300, 'c': 400, 'b': 500, 'e': 600}\n",
      "OrderedDict([('a', 1000), ('b', 500), ('c', 400), ('d', 300), ('e', 600), ('f', 200)])\n"
     ]
    }
   ],
   "source": [
    "from collections import OrderedDict\n",
    "\n",
    "initial_list = {'a': 1000, 'f': 200, 'd': 300, 'c': 400, 'b': 500, 'e': 600}\n",
    "print(initial_list)\n",
    "\n",
    "final_list = OrderedDict(dict(sorted(initial_list.items())))\n",
    "print(final_list)"
   ]
  },
  {
   "cell_type": "markdown",
   "id": "ace4e7b2",
   "metadata": {},
   "source": [
    "# 7. Write a Python program to sort Python Dictionaries by Key or Value?"
   ]
  },
  {
   "cell_type": "code",
   "execution_count": 16,
   "id": "48b7fcf1",
   "metadata": {},
   "outputs": [
    {
     "name": "stdout",
     "output_type": "stream",
     "text": [
      "{'Banana': 60, 'Grape': 13, 'Mango': 100, 'PineApple': 22}\n",
      "{'Grape': 13, 'PineApple': 22, 'Banana': 60, 'Mango': 100}\n"
     ]
    }
   ],
   "source": [
    "d_items = {'Mango':100,'PineApple':22,'Banana':60,'Grape':13}\n",
    "\n",
    "def sort_dict(in_dict,sort_type):\n",
    "    if sort_type == 'key':\n",
    "        print(dict(sorted(in_dict.items(), key=lambda x:x[0], reverse=False)))\n",
    "    else:\n",
    "        print(dict(sorted(in_dict.items(), key=lambda x:x[1], reverse=False)))\n",
    "        \n",
    "sort_dict(d_items,'key')        \n",
    "sort_dict(d_items,'value')"
   ]
  },
  {
   "cell_type": "code",
   "execution_count": null,
   "id": "c1192016",
   "metadata": {},
   "outputs": [],
   "source": []
  }
 ],
 "metadata": {
  "kernelspec": {
   "display_name": "Python 3 (ipykernel)",
   "language": "python",
   "name": "python3"
  },
  "language_info": {
   "codemirror_mode": {
    "name": "ipython",
    "version": 3
   },
   "file_extension": ".py",
   "mimetype": "text/x-python",
   "name": "python",
   "nbconvert_exporter": "python",
   "pygments_lexer": "ipython3",
   "version": "3.9.12"
  }
 },
 "nbformat": 4,
 "nbformat_minor": 5
}
