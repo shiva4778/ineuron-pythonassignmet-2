{
 "cells": [
  {
   "cell_type": "markdown",
   "id": "2209ce12",
   "metadata": {},
   "source": [
    "# Write a function that takes a list and a number as arguments. Add the number to the end of the list, then remove the first element of the list. The function should then return the updated list."
   ]
  },
  {
   "cell_type": "code",
   "execution_count": 5,
   "id": "8c50de8e",
   "metadata": {},
   "outputs": [
    {
     "name": "stdout",
     "output_type": "stream",
     "text": [
      "[6, 7, 8, 9, 1]\n"
     ]
    }
   ],
   "source": [
    "def no(n,k):\n",
    "    if len(n)!=0:\n",
    "        n.pop(0)\n",
    "        n.append(k)\n",
    "        return n\n",
    "    else:\n",
    "        return 'No list has been selected'\n",
    "a=no([5,6,7,8,9],1)\n",
    "print(a)"
   ]
  },
  {
   "cell_type": "markdown",
   "id": "cb1cc054",
   "metadata": {},
   "source": [
    "# Create the function that takes a list of dictionaries and returns the sum of people&#39;s budgets."
   ]
  },
  {
   "cell_type": "code",
   "execution_count": 9,
   "id": "7f2da9b9",
   "metadata": {},
   "outputs": [],
   "source": [
    "def budget1(n):\n",
    "    budget1=0\n",
    "    for i in n:\n",
    "        for j in i:\n",
    "            if j=='budget':\n",
    "                budget1+=i[j]\n",
    "    return budget1\n",
    "a=budget1([{'name':'shivanshu','age':20,'budget':200000},{'name':'diksha','age':21,'budget':150000},{'name':'mayank','age':18,'budget':52200}])"
   ]
  },
  {
   "cell_type": "code",
   "execution_count": 10,
   "id": "34556f16",
   "metadata": {},
   "outputs": [
    {
     "name": "stdout",
     "output_type": "stream",
     "text": [
      "402200\n"
     ]
    }
   ],
   "source": [
    "print(a)"
   ]
  },
  {
   "cell_type": "markdown",
   "id": "8bc78ed9",
   "metadata": {},
   "source": [
    "# Create a function that takes a string and returns a string with its letters in alphabetical order."
   ]
  },
  {
   "cell_type": "code",
   "execution_count": 14,
   "id": "4666a373",
   "metadata": {},
   "outputs": [
    {
     "name": "stdout",
     "output_type": "stream",
     "text": [
      "ahhinssuv\n"
     ]
    }
   ],
   "source": [
    "def string1(string):\n",
    "    a=list(string)\n",
    "    k=''\n",
    "    a.sort()\n",
    "    for i in a:\n",
    "        k+=i\n",
    "    return k\n",
    "a=string1('shivanshu')\n",
    "print(a)"
   ]
  },
  {
   "cell_type": "markdown",
   "id": "d80a3731",
   "metadata": {},
   "source": [
    "# Suppose that you invest  $10,000 for 10 years at an interest rate of 6% compounded monthly.What will be the value of your investment at the end of the 10 year period?"
   ]
  },
  {
   "cell_type": "code",
   "execution_count": 21,
   "id": "b8b98aba",
   "metadata": {},
   "outputs": [
    {
     "name": "stdout",
     "output_type": "stream",
     "text": [
      "124.4532671956772\n"
     ]
    }
   ],
   "source": [
    "def ci(p,r,t,n):\n",
    "    amount=p*((1+(r/100))**(1/n))    \n",
    "    return amount-p\n",
    "a=ci(3500,15,0.15,4)\n",
    "print(a)"
   ]
  },
  {
   "cell_type": "markdown",
   "id": "79832054",
   "metadata": {},
   "source": [
    "# Write a function that takes a list of elements and returns only the integers."
   ]
  },
  {
   "cell_type": "code",
   "execution_count": 24,
   "id": "dc14a673",
   "metadata": {},
   "outputs": [
    {
     "name": "stdout",
     "output_type": "stream",
     "text": [
      "[4, 8]\n"
     ]
    }
   ],
   "source": [
    "def list1(lis):\n",
    "    k=[]\n",
    "    for i in lis:\n",
    "        if str(i).isdigit():\n",
    "            k.append(int(i))\n",
    "    return k\n",
    "a=list1(['sd',4,'8'])\n",
    "print(a)"
   ]
  },
  {
   "cell_type": "code",
   "execution_count": null,
   "id": "e8904ff1",
   "metadata": {},
   "outputs": [],
   "source": []
  }
 ],
 "metadata": {
  "kernelspec": {
   "display_name": "Python 3 (ipykernel)",
   "language": "python",
   "name": "python3"
  },
  "language_info": {
   "codemirror_mode": {
    "name": "ipython",
    "version": 3
   },
   "file_extension": ".py",
   "mimetype": "text/x-python",
   "name": "python",
   "nbconvert_exporter": "python",
   "pygments_lexer": "ipython3",
   "version": "3.9.12"
  }
 },
 "nbformat": 4,
 "nbformat_minor": 5
}
