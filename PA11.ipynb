{
 "cells": [
  {
   "cell_type": "markdown",
   "id": "e7ad838e",
   "metadata": {},
   "source": [
    "# 1. Write a Python program to find words which are greater than given length k?"
   ]
  },
  {
   "cell_type": "code",
   "execution_count": 1,
   "id": "58c42de0",
   "metadata": {},
   "outputs": [
    {
     "name": "stdout",
     "output_type": "stream",
     "text": [
      "enter the list of wordshivan\n",
      "enter the length of the word3\n"
     ]
    }
   ],
   "source": [
    "i=input('enter the list of word')\n",
    "k=int(input('enter the length of the word'))\n",
    "for s in i:\n",
    "    if len(s)>k:\n",
    "        print(s)"
   ]
  },
  {
   "cell_type": "markdown",
   "id": "243c84b3",
   "metadata": {},
   "source": [
    "# 2. Write a Python program for removing i-th character from a string?"
   ]
  },
  {
   "cell_type": "code",
   "execution_count": 6,
   "id": "ad35160a",
   "metadata": {},
   "outputs": [
    {
     "name": "stdout",
     "output_type": "stream",
     "text": [
      "enter the wordshivanshu\n",
      "enter the characterh\n",
      "sivanshu\n"
     ]
    }
   ],
   "source": [
    "ch=input('enter the word')\n",
    "i=input('enter the character')\n",
    "l=list(ch)\n",
    "s=l.index(i)\n",
    "l.pop(s)\n",
    "er=''\n",
    "for i in l:\n",
    "    er+=i\n",
    "print(er)"
   ]
  },
  {
   "cell_type": "markdown",
   "id": "c6db1409",
   "metadata": {},
   "source": [
    "# 3. Write a Python program to split and join a string?"
   ]
  },
  {
   "cell_type": "code",
   "execution_count": 9,
   "id": "5e95f452",
   "metadata": {},
   "outputs": [
    {
     "name": "stdout",
     "output_type": "stream",
     "text": [
      "enter the wordasd\n",
      "a\n",
      "s\n",
      "d\n",
      "enter the character you want to joine\n",
      "enter the index position 3\n",
      "asde\n"
     ]
    }
   ],
   "source": [
    "# to split the string\n",
    "a=input('enter the word')\n",
    "for i in a:\n",
    "    print(i)\n",
    "# to join the string\n",
    "s=input('enter the character you want to join')\n",
    "d=int(input('enter the index position '))\n",
    "k=a[0:d]+s+a[d:]\n",
    "print(k\n",
    "     )"
   ]
  },
  {
   "cell_type": "markdown",
   "id": "ed20abd7",
   "metadata": {},
   "source": [
    "# 4. Write a Python to check if a given string is binary string or not?"
   ]
  },
  {
   "cell_type": "code",
   "execution_count": 23,
   "id": "f23d2351",
   "metadata": {},
   "outputs": [
    {
     "name": "stdout",
     "output_type": "stream",
     "text": [
      "it is a  binary string \n"
     ]
    }
   ],
   "source": [
    "a='10001010001111000101'\n",
    "k={'0','1'}\n",
    "for i in a:\n",
    "    if i not in k:\n",
    "        print('it is not a binary string ')\n",
    "        break\n",
    "else:\n",
    "    \n",
    "    print('it is a  binary string ')\n",
    "    \n",
    "\n",
    "\n",
    "        \n",
    "        "
   ]
  },
  {
   "cell_type": "markdown",
   "id": "e312ff43",
   "metadata": {},
   "source": [
    "# 5. Write a Python program to find uncommon words from two Strings?"
   ]
  },
  {
   "cell_type": "code",
   "execution_count": 30,
   "id": "4011ca8d",
   "metadata": {},
   "outputs": [
    {
     "name": "stdout",
     "output_type": "stream",
     "text": [
      "shivanshu\n",
      "mall\n",
      "jamal\n",
      "malik\n"
     ]
    }
   ],
   "source": [
    "a=('my name is shivanshu mall')\n",
    "b=('my name is jamal malik')\n",
    "c=a.split()\n",
    "d=b.split()\n",
    "for i in c:\n",
    "    if i not in d:\n",
    "        print(i)\n",
    "for j in d:\n",
    "    if j not in c:\n",
    "        print(j)\n",
    "        "
   ]
  },
  {
   "cell_type": "markdown",
   "id": "a8829448",
   "metadata": {},
   "source": [
    "# 6. Write a Python to find all duplicate characters in string?"
   ]
  },
  {
   "cell_type": "code",
   "execution_count": 40,
   "id": "ffce5be2",
   "metadata": {},
   "outputs": [
    {
     "name": "stdout",
     "output_type": "stream",
     "text": [
      "enter the stringshivanshu\n",
      "{'h', 's'}\n"
     ]
    }
   ],
   "source": [
    "a=input('enter the string')\n",
    "s=list(a)\n",
    "rt=set()\n",
    "for i in s:\n",
    "    if s.count(i)>1:\n",
    "        rt.add(i)\n",
    "print(rt)"
   ]
  },
  {
   "cell_type": "markdown",
   "id": "4ec4e95e",
   "metadata": {},
   "source": [
    "# 7. Write a Python Program to check if a string contains any special character?"
   ]
  },
  {
   "cell_type": "code",
   "execution_count": 47,
   "id": "a58ff8e0",
   "metadata": {},
   "outputs": [
    {
     "name": "stdout",
     "output_type": "stream",
     "text": [
      "enter the stringsd\n"
     ]
    }
   ],
   "source": [
    "a=input('enter the string')\n",
    "k='!@#$%^&*():;<>,.?\\|}{[]}*-+/=-_~`'\n",
    "for i in a:\n",
    "    if i in k:\n",
    "        print('it contains a special characgter')"
   ]
  },
  {
   "cell_type": "code",
   "execution_count": null,
   "id": "7bcfc8bf",
   "metadata": {},
   "outputs": [],
   "source": []
  }
 ],
 "metadata": {
  "kernelspec": {
   "display_name": "Python 3 (ipykernel)",
   "language": "python",
   "name": "python3"
  },
  "language_info": {
   "codemirror_mode": {
    "name": "ipython",
    "version": 3
   },
   "file_extension": ".py",
   "mimetype": "text/x-python",
   "name": "python",
   "nbconvert_exporter": "python",
   "pygments_lexer": "ipython3",
   "version": "3.9.12"
  }
 },
 "nbformat": 4,
 "nbformat_minor": 5
}
